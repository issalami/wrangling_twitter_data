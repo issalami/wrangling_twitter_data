{
 "cells": [
  {
   "cell_type": "markdown",
   "id": "9e5ce3f3",
   "metadata": {},
   "source": [
    "# Wrangle and Analyse WeRateDogs Twitter Data\n",
    "\n",
    "#### Udacity alx Data Analyst Nanodegree\n",
    "#### Salami Suleiman, September 2022"
   ]
  },
  {
   "cell_type": "markdown",
   "id": "49756a4d",
   "metadata": {},
   "source": [
    "## Introduction\n",
    "\n",
    "This project invetigates the tweet archive of Twitter user @dog_rates, also known as WeRateDogs. WeRateDogs is a Twitter account that rates people's dogs with a humorous comment about the dog. These ratings almost always have a denominator of 10. The numerators, though? Almost always greater than 10. 11/10, 12/10, 13/10, etc. Why? Because \"they're good dogs Brent.\" WeRateDogs has over 4 million followers and has received international media coverage.\n",
    "\n",
    "The data contains each tweet's retweet count and favorite (\"like\") count collected from the Twitter API. The data also contains dog image predictions generated from the neural network.\n",
    "\n",
    "For our analysis, the specific questions being investigated here are:\n",
    "\n",
    "* What is the distribution of tweets overtime?\n",
    "* What is the most popular dog name?\n",
    "* How are retweets and favorites couts related?"
   ]
  },
  {
   "cell_type": "code",
   "execution_count": 1,
   "id": "f2a1c5ec",
   "metadata": {},
   "outputs": [],
   "source": [
    "# load required libraries\n",
    "\n",
    "import pandas as pd\n",
    "import numpy as np\n",
    "import matplotlib.pyplot as plt\n",
    "\n",
    "%matplotlib inline\n"
   ]
  },
  {
   "cell_type": "code",
   "execution_count": 2,
   "id": "4c5a70b6",
   "metadata": {},
   "outputs": [],
   "source": [
    "## load dataset\n",
    "\n",
    "df_master = pd.read_csv('twitter_archive_master.csv') "
   ]
  },
  {
   "cell_type": "code",
   "execution_count": 5,
   "id": "b68769d0",
   "metadata": {},
   "outputs": [
    {
     "data": {
      "text/plain": [
       "['tweet_id',\n",
       " 'timestamp',\n",
       " 'text',\n",
       " 'rating_numerator',\n",
       " 'rating_denominator',\n",
       " 'name',\n",
       " 'dog_stage',\n",
       " 'jpg_url',\n",
       " 'img_num',\n",
       " 'p1',\n",
       " 'p1_conf',\n",
       " 'p1_dog',\n",
       " 'p2',\n",
       " 'p2_conf',\n",
       " 'p2_dog',\n",
       " 'p3',\n",
       " 'p3_conf',\n",
       " 'p3_dog',\n",
       " 'retweets_count',\n",
       " 'favorite_count']"
      ]
     },
     "execution_count": 5,
     "metadata": {},
     "output_type": "execute_result"
    }
   ],
   "source": [
    "list(df_master.columns)"
   ]
  },
  {
   "cell_type": "code",
   "execution_count": 4,
   "id": "f2c9a727",
   "metadata": {},
   "outputs": [
    {
     "name": "stdout",
     "output_type": "stream",
     "text": [
      "<class 'pandas.core.frame.DataFrame'>\n",
      "RangeIndex: 1583 entries, 0 to 1582\n",
      "Data columns (total 20 columns):\n",
      " #   Column              Non-Null Count  Dtype  \n",
      "---  ------              --------------  -----  \n",
      " 0   tweet_id            1583 non-null   int64  \n",
      " 1   timestamp           1583 non-null   object \n",
      " 2   text                1583 non-null   object \n",
      " 3   rating_numerator    1583 non-null   float64\n",
      " 4   rating_denominator  1583 non-null   float64\n",
      " 5   name                1583 non-null   object \n",
      " 6   dog_stage           1583 non-null   object \n",
      " 7   jpg_url             1583 non-null   object \n",
      " 8   img_num             1583 non-null   float64\n",
      " 9   p1                  1583 non-null   object \n",
      " 10  p1_conf             1583 non-null   float64\n",
      " 11  p1_dog              1583 non-null   bool   \n",
      " 12  p2                  1583 non-null   object \n",
      " 13  p2_conf             1583 non-null   float64\n",
      " 14  p2_dog              1583 non-null   bool   \n",
      " 15  p3                  1583 non-null   object \n",
      " 16  p3_conf             1583 non-null   float64\n",
      " 17  p3_dog              1583 non-null   bool   \n",
      " 18  retweets_count      1583 non-null   float64\n",
      " 19  favorite_count      1583 non-null   float64\n",
      "dtypes: bool(3), float64(8), int64(1), object(8)\n",
      "memory usage: 215.0+ KB\n"
     ]
    }
   ],
   "source": [
    "df_master.info()"
   ]
  },
  {
   "cell_type": "code",
   "execution_count": 3,
   "id": "2db02bbc",
   "metadata": {},
   "outputs": [
    {
     "data": {
      "text/html": [
       "<div>\n",
       "<style scoped>\n",
       "    .dataframe tbody tr th:only-of-type {\n",
       "        vertical-align: middle;\n",
       "    }\n",
       "\n",
       "    .dataframe tbody tr th {\n",
       "        vertical-align: top;\n",
       "    }\n",
       "\n",
       "    .dataframe thead th {\n",
       "        text-align: right;\n",
       "    }\n",
       "</style>\n",
       "<table border=\"1\" class=\"dataframe\">\n",
       "  <thead>\n",
       "    <tr style=\"text-align: right;\">\n",
       "      <th></th>\n",
       "      <th>tweet_id</th>\n",
       "      <th>rating_numerator</th>\n",
       "      <th>rating_denominator</th>\n",
       "      <th>img_num</th>\n",
       "      <th>p1_conf</th>\n",
       "      <th>p2_conf</th>\n",
       "      <th>p3_conf</th>\n",
       "      <th>retweets_count</th>\n",
       "      <th>favorite_count</th>\n",
       "    </tr>\n",
       "  </thead>\n",
       "  <tbody>\n",
       "    <tr>\n",
       "      <th>count</th>\n",
       "      <td>1.583000e+03</td>\n",
       "      <td>1583.000000</td>\n",
       "      <td>1583.000000</td>\n",
       "      <td>1583.000000</td>\n",
       "      <td>1583.000000</td>\n",
       "      <td>1.583000e+03</td>\n",
       "      <td>1.583000e+03</td>\n",
       "      <td>1583.000000</td>\n",
       "      <td>1583.000000</td>\n",
       "    </tr>\n",
       "    <tr>\n",
       "      <th>mean</th>\n",
       "      <td>7.446632e+17</td>\n",
       "      <td>11.984075</td>\n",
       "      <td>10.120025</td>\n",
       "      <td>1.216677</td>\n",
       "      <td>0.603551</td>\n",
       "      <td>1.337078e-01</td>\n",
       "      <td>5.960947e-02</td>\n",
       "      <td>2801.403664</td>\n",
       "      <td>9508.711939</td>\n",
       "    </tr>\n",
       "    <tr>\n",
       "      <th>std</th>\n",
       "      <td>6.841215e+16</td>\n",
       "      <td>44.683597</td>\n",
       "      <td>4.150396</td>\n",
       "      <td>0.585691</td>\n",
       "      <td>0.273676</td>\n",
       "      <td>1.018113e-01</td>\n",
       "      <td>5.145330e-02</td>\n",
       "      <td>4071.597886</td>\n",
       "      <td>11917.426789</td>\n",
       "    </tr>\n",
       "    <tr>\n",
       "      <th>min</th>\n",
       "      <td>6.660519e+17</td>\n",
       "      <td>1.000000</td>\n",
       "      <td>2.000000</td>\n",
       "      <td>1.000000</td>\n",
       "      <td>0.044333</td>\n",
       "      <td>1.011300e-08</td>\n",
       "      <td>1.740170e-10</td>\n",
       "      <td>23.000000</td>\n",
       "      <td>107.000000</td>\n",
       "    </tr>\n",
       "    <tr>\n",
       "      <th>25%</th>\n",
       "      <td>6.805966e+17</td>\n",
       "      <td>10.000000</td>\n",
       "      <td>10.000000</td>\n",
       "      <td>1.000000</td>\n",
       "      <td>0.369509</td>\n",
       "      <td>4.977860e-02</td>\n",
       "      <td>1.519165e-02</td>\n",
       "      <td>735.000000</td>\n",
       "      <td>2417.000000</td>\n",
       "    </tr>\n",
       "    <tr>\n",
       "      <th>50%</th>\n",
       "      <td>7.271754e+17</td>\n",
       "      <td>11.000000</td>\n",
       "      <td>10.000000</td>\n",
       "      <td>1.000000</td>\n",
       "      <td>0.605851</td>\n",
       "      <td>1.159840e-01</td>\n",
       "      <td>4.859160e-02</td>\n",
       "      <td>1595.000000</td>\n",
       "      <td>4995.000000</td>\n",
       "    </tr>\n",
       "    <tr>\n",
       "      <th>75%</th>\n",
       "      <td>8.011151e+17</td>\n",
       "      <td>12.000000</td>\n",
       "      <td>10.000000</td>\n",
       "      <td>1.000000</td>\n",
       "      <td>0.864201</td>\n",
       "      <td>1.978790e-01</td>\n",
       "      <td>9.203645e-02</td>\n",
       "      <td>3369.000000</td>\n",
       "      <td>12261.500000</td>\n",
       "    </tr>\n",
       "    <tr>\n",
       "      <th>max</th>\n",
       "      <td>8.924206e+17</td>\n",
       "      <td>1776.000000</td>\n",
       "      <td>170.000000</td>\n",
       "      <td>4.000000</td>\n",
       "      <td>1.000000</td>\n",
       "      <td>4.880140e-01</td>\n",
       "      <td>2.734190e-01</td>\n",
       "      <td>56625.000000</td>\n",
       "      <td>107956.000000</td>\n",
       "    </tr>\n",
       "  </tbody>\n",
       "</table>\n",
       "</div>"
      ],
      "text/plain": [
       "           tweet_id  rating_numerator  rating_denominator      img_num  \\\n",
       "count  1.583000e+03       1583.000000         1583.000000  1583.000000   \n",
       "mean   7.446632e+17         11.984075           10.120025     1.216677   \n",
       "std    6.841215e+16         44.683597            4.150396     0.585691   \n",
       "min    6.660519e+17          1.000000            2.000000     1.000000   \n",
       "25%    6.805966e+17         10.000000           10.000000     1.000000   \n",
       "50%    7.271754e+17         11.000000           10.000000     1.000000   \n",
       "75%    8.011151e+17         12.000000           10.000000     1.000000   \n",
       "max    8.924206e+17       1776.000000          170.000000     4.000000   \n",
       "\n",
       "           p1_conf       p2_conf       p3_conf  retweets_count  favorite_count  \n",
       "count  1583.000000  1.583000e+03  1.583000e+03     1583.000000     1583.000000  \n",
       "mean      0.603551  1.337078e-01  5.960947e-02     2801.403664     9508.711939  \n",
       "std       0.273676  1.018113e-01  5.145330e-02     4071.597886    11917.426789  \n",
       "min       0.044333  1.011300e-08  1.740170e-10       23.000000      107.000000  \n",
       "25%       0.369509  4.977860e-02  1.519165e-02      735.000000     2417.000000  \n",
       "50%       0.605851  1.159840e-01  4.859160e-02     1595.000000     4995.000000  \n",
       "75%       0.864201  1.978790e-01  9.203645e-02     3369.000000    12261.500000  \n",
       "max       1.000000  4.880140e-01  2.734190e-01    56625.000000   107956.000000  "
      ]
     },
     "execution_count": 3,
     "metadata": {},
     "output_type": "execute_result"
    }
   ],
   "source": [
    "df_master.describe()"
   ]
  },
  {
   "cell_type": "code",
   "execution_count": null,
   "id": "f2d48ce9",
   "metadata": {},
   "outputs": [],
   "source": []
  },
  {
   "cell_type": "markdown",
   "id": "93599944",
   "metadata": {},
   "source": [
    "#### What is the distribution of tweets overtime?"
   ]
  },
  {
   "cell_type": "code",
   "execution_count": 346,
   "id": "b75f1139",
   "metadata": {},
   "outputs": [
    {
     "data": {
      "text/html": [
       "<div>\n",
       "<style scoped>\n",
       "    .dataframe tbody tr th:only-of-type {\n",
       "        vertical-align: middle;\n",
       "    }\n",
       "\n",
       "    .dataframe tbody tr th {\n",
       "        vertical-align: top;\n",
       "    }\n",
       "\n",
       "    .dataframe thead th {\n",
       "        text-align: right;\n",
       "    }\n",
       "</style>\n",
       "<table border=\"1\" class=\"dataframe\">\n",
       "  <thead>\n",
       "    <tr style=\"text-align: right;\">\n",
       "      <th></th>\n",
       "      <th>timestamp</th>\n",
       "      <th>tweet_id</th>\n",
       "    </tr>\n",
       "  </thead>\n",
       "  <tbody>\n",
       "    <tr>\n",
       "      <th>0</th>\n",
       "      <td>2015-11-30 00:00:00+00:00</td>\n",
       "      <td>167</td>\n",
       "    </tr>\n",
       "    <tr>\n",
       "      <th>1</th>\n",
       "      <td>2015-12-31 00:00:00+00:00</td>\n",
       "      <td>265</td>\n",
       "    </tr>\n",
       "    <tr>\n",
       "      <th>2</th>\n",
       "      <td>2016-01-31 00:00:00+00:00</td>\n",
       "      <td>131</td>\n",
       "    </tr>\n",
       "    <tr>\n",
       "      <th>3</th>\n",
       "      <td>2016-02-29 00:00:00+00:00</td>\n",
       "      <td>85</td>\n",
       "    </tr>\n",
       "    <tr>\n",
       "      <th>4</th>\n",
       "      <td>2016-03-31 00:00:00+00:00</td>\n",
       "      <td>91</td>\n",
       "    </tr>\n",
       "  </tbody>\n",
       "</table>\n",
       "</div>"
      ],
      "text/plain": [
       "                  timestamp  tweet_id\n",
       "0 2015-11-30 00:00:00+00:00       167\n",
       "1 2015-12-31 00:00:00+00:00       265\n",
       "2 2016-01-31 00:00:00+00:00       131\n",
       "3 2016-02-29 00:00:00+00:00        85\n",
       "4 2016-03-31 00:00:00+00:00        91"
      ]
     },
     "execution_count": 346,
     "metadata": {},
     "output_type": "execute_result"
    }
   ],
   "source": [
    "# re-format timestamp\n",
    "\n",
    "df_master.timestamp = pd.to_datetime(df_master['timestamp'], format='%Y-%m-%d %H:%M:%S.%f')\n",
    "\n",
    "# group by month\n",
    "tweets_by_month = df_master.groupby(pd.Grouper(key = 'timestamp', freq = \"M\")).count().reset_index()[['timestamp', 'tweet_id']]\n",
    "tweets_by_month.head()\n"
   ]
  },
  {
   "cell_type": "code",
   "execution_count": 347,
   "id": "df04a811",
   "metadata": {},
   "outputs": [
    {
     "data": {
      "image/png": "[encoded data removed]",
      "text/plain": [
       "<Figure size 720x432 with 1 Axes>"
      ]
     },
     "metadata": {
      "needs_background": "light"
     },
     "output_type": "display_data"
    }
   ],
   "source": [
    "plt.subplots(figsize=(10, 6))\n",
    "\n",
    "plt.plot(tweets_by_month.timestamp, tweets_by_month.tweet_id);\n",
    "plt.title('We Rate Dogs Tweets over Time');"
   ]
  },
  {
   "cell_type": "markdown",
   "id": "7537df7b",
   "metadata": {},
   "source": [
    "* Although WeRateDogs is very popular, we noticed that for the given data, it peaked in December 2015\n",
    "* The number of tweets has since fallen until 2017 where our data ends"
   ]
  },
  {
   "cell_type": "markdown",
   "id": "770f3e42",
   "metadata": {},
   "source": [
    "#### What is the most popular dog name?"
   ]
  },
  {
   "cell_type": "code",
   "execution_count": 348,
   "id": "fcb410e0",
   "metadata": {},
   "outputs": [
    {
     "data": {
      "text/plain": [
       "name\n",
       "Cooper     13\n",
       "Oliver     12\n",
       "Charlie    12\n",
       "Lucy       11\n",
       "Nonehe      9\n",
       "Penny       9\n",
       "Winston     9\n",
       "Tucker      9\n",
       "Bo          8\n",
       "Sadie       8\n",
       "Name: name, dtype: int64"
      ]
     },
     "execution_count": 348,
     "metadata": {},
     "output_type": "execute_result"
    }
   ],
   "source": [
    "\n",
    "df_dog_name = df_master.groupby(\"name\")[\"name\"].count().sort_values(ascending=False)[0:10]\n",
    "\n",
    "df_dog_name"
   ]
  },
  {
   "cell_type": "code",
   "execution_count": 349,
   "id": "1483b49b",
   "metadata": {},
   "outputs": [
    {
     "data": {
      "image/png": "[encoded data removed]",
      "text/plain": [
       "<Figure size 432x288 with 1 Axes>"
      ]
     },
     "metadata": {
      "needs_background": "light"
     },
     "output_type": "display_data"
    }
   ],
   "source": [
    "plt.barh(df_dog_name.index, df_dog_name)\n",
    "plt.title('Barchart of Top 10 Most Popular Dog Names')\n",
    "plt.xlabel('Count of Dog Names')\n",
    "plt.ylabel('Dog Name');\n"
   ]
  },
  {
   "cell_type": "markdown",
   "id": "08e50618",
   "metadata": {},
   "source": [
    "* The Top 10 Dog names are generally as expected\n",
    "* 70% of the our top 10 dog names appear on 'dogtime.com' top 100 most popular dog names"
   ]
  },
  {
   "cell_type": "markdown",
   "id": "9f342b42",
   "metadata": {},
   "source": [
    "####   How are retweets and favorites couts related?"
   ]
  },
  {
   "cell_type": "code",
   "execution_count": 350,
   "id": "517a475e",
   "metadata": {},
   "outputs": [
    {
     "data": {
      "image/png": "[encoded data removed]",
      "text/plain": [
       "<Figure size 720x432 with 1 Axes>"
      ]
     },
     "metadata": {
      "needs_background": "light"
     },
     "output_type": "display_data"
    }
   ],
   "source": [
    "# scatter plot of profit vs vote average\n",
    "\n",
    "plt.figure(figsize = (10, 6))\n",
    "\n",
    "plt.scatter(df_master['retweets_count'], df_master['favorite_count'])\n",
    "plt.title('Retweets vs Favorite Count')\n",
    "plt.xlabel(\"Retweet Count\")\n",
    "plt.ylabel('Favorite Count');"
   ]
  },
  {
   "cell_type": "markdown",
   "id": "f331c863",
   "metadata": {},
   "source": [
    "* The plot shows there is positive correlation betwen retweets and favorite counts\n",
    "* This implies favorited tweets are most likely to get more retweets and even more favorites"
   ]
  },
  {
   "cell_type": "code",
   "execution_count": null,
   "id": "80695b02",
   "metadata": {},
   "outputs": [],
   "source": []
  },
  {
   "cell_type": "code",
   "execution_count": null,
   "id": "ff2caabc",
   "metadata": {},
   "outputs": [],
   "source": []
  }
 ],
 "metadata": {
  "kernelspec": {
   "display_name": "Python 3 (ipykernel)",
   "language": "python",
   "name": "python3"
  },
  "language_info": {
   "codemirror_mode": {
    "name": "ipython",
    "version": 3
   },
   "file_extension": ".py",
   "mimetype": "text/x-python",
   "name": "python",
   "nbconvert_exporter": "python",
   "pygments_lexer": "ipython3",
   "version": "3.9.12"
  }
 },
 "nbformat": 4,
 "nbformat_minor": 5
}
