{
 "cells": [
  {
   "cell_type": "markdown",
   "id": "8bc353da",
   "metadata": {},
   "source": [
    "# Wrangle and Analyse WeRateDogs Twitter Data\n",
    "\n",
    "#### Udacity alx Data Analyst Nanodegree\n",
    "#### Salami Suleiman, September 2022"
   ]
  },
  {
   "cell_type": "markdown",
   "id": "6868c901",
   "metadata": {},
   "source": [
    "## Introduction\n",
    "\n",
    "This project illustrates methods to gather data from a variety of sources and in a variety of formats, assess its quality and tidiness, then clean it. \n",
    "\n",
    "The dataset used in this notebook is the tweet archive of Twitter user @dog_rates, also known as WeRateDogs. WeRateDogs is a Twitter account that rates people's dogs with a humorous comment about the dog. These ratings almost always have a denominator of 10. The numerators, though? Almost always greater than 10. 11/10, 12/10, 13/10, etc. Why? Because \"they're good dogs Brent.\" WeRateDogs has over 4 million followers and has received international media coverage."
   ]
  },
  {
   "cell_type": "markdown",
   "id": "852163f9",
   "metadata": {},
   "source": [
    "## Data Gathering\n",
    "\n",
    "* In this section, we will gather three pieces of data for the data wrangling"
   ]
  },
  {
   "cell_type": "code",
   "execution_count": 167,
   "id": "426f323a",
   "metadata": {},
   "outputs": [],
   "source": [
    "# load required libraries\n",
    "\n",
    "import pandas as pd\n",
    "import numpy as np\n",
    "import matplotlib.pyplot as plt\n",
    "import tweepy\n",
    "import json \n",
    "import re\n",
    "\n",
    "%matplotlib inline\n"
   ]
  },
  {
   "cell_type": "code",
   "execution_count": 47,
   "id": "800b05f9",
   "metadata": {
    "scrolled": false
   },
   "outputs": [
    {
     "data": {
      "text/html": [
       "<div>\n",
       "<style scoped>\n",
       "    .dataframe tbody tr th:only-of-type {\n",
       "        vertical-align: middle;\n",
       "    }\n",
       "\n",
       "    .dataframe tbody tr th {\n",
       "        vertical-align: top;\n",
       "    }\n",
       "\n",
       "    .dataframe thead th {\n",
       "        text-align: right;\n",
       "    }\n",
       "</style>\n",
       "<table border=\"1\" class=\"dataframe\">\n",
       "  <thead>\n",
       "    <tr style=\"text-align: right;\">\n",
       "      <th></th>\n",
       "      <th>tweet_id</th>\n",
       "      <th>in_reply_to_status_id</th>\n",
       "      <th>in_reply_to_user_id</th>\n",
       "      <th>timestamp</th>\n",
       "      <th>source</th>\n",
       "      <th>text</th>\n",
       "      <th>retweeted_status_id</th>\n",
       "      <th>retweeted_status_user_id</th>\n",
       "      <th>retweeted_status_timestamp</th>\n",
       "      <th>expanded_urls</th>\n",
       "      <th>rating_numerator</th>\n",
       "      <th>rating_denominator</th>\n",
       "      <th>name</th>\n",
       "      <th>doggo</th>\n",
       "      <th>floofer</th>\n",
       "      <th>pupper</th>\n",
       "      <th>puppo</th>\n",
       "    </tr>\n",
       "  </thead>\n",
       "  <tbody>\n",
       "    <tr>\n",
       "      <th>0</th>\n",
       "      <td>892420643555336193</td>\n",
       "      <td>NaN</td>\n",
       "      <td>NaN</td>\n",
       "      <td>2017-08-01 16:23:56 +0000</td>\n",
       "      <td>&lt;a href=\"http://twitter.com/download/iphone\" r...</td>\n",
       "      <td>This is Phineas. He's a mystical boy. Only eve...</td>\n",
       "      <td>NaN</td>\n",
       "      <td>NaN</td>\n",
       "      <td>NaN</td>\n",
       "      <td>https://twitter.com/dog_rates/status/892420643...</td>\n",
       "      <td>13</td>\n",
       "      <td>10</td>\n",
       "      <td>Phineas</td>\n",
       "      <td>None</td>\n",
       "      <td>None</td>\n",
       "      <td>None</td>\n",
       "      <td>None</td>\n",
       "    </tr>\n",
       "  </tbody>\n",
       "</table>\n",
       "</div>"
      ],
      "text/plain": [
       "             tweet_id  in_reply_to_status_id  in_reply_to_user_id  \\\n",
       "0  892420643555336193                    NaN                  NaN   \n",
       "\n",
       "                   timestamp  \\\n",
       "0  2017-08-01 16:23:56 +0000   \n",
       "\n",
       "                                              source  \\\n",
       "0  <a href=\"http://twitter.com/download/iphone\" r...   \n",
       "\n",
       "                                                text  retweeted_status_id  \\\n",
       "0  This is Phineas. He's a mystical boy. Only eve...                  NaN   \n",
       "\n",
       "   retweeted_status_user_id retweeted_status_timestamp  \\\n",
       "0                       NaN                        NaN   \n",
       "\n",
       "                                       expanded_urls  rating_numerator  \\\n",
       "0  https://twitter.com/dog_rates/status/892420643...                13   \n",
       "\n",
       "   rating_denominator     name doggo floofer pupper puppo  \n",
       "0                  10  Phineas  None    None   None  None  "
      ]
     },
     "execution_count": 47,
     "metadata": {},
     "output_type": "execute_result"
    }
   ],
   "source": [
    "# load Twitter archive dataset\n",
    "\n",
    "path = \"https://d17h27t6h515a5.cloudfront.net/topher/2017/August/59a4e958_twitter-archive-enhanced/twitter-archive-enhanced.csv\"\n",
    "twt_archive = pd.read_csv(path)\n",
    "\n",
    "twt_archive.head(1)"
   ]
  },
  {
   "cell_type": "code",
   "execution_count": 48,
   "id": "80f550bb",
   "metadata": {},
   "outputs": [
    {
     "data": {
      "text/html": [
       "<div>\n",
       "<style scoped>\n",
       "    .dataframe tbody tr th:only-of-type {\n",
       "        vertical-align: middle;\n",
       "    }\n",
       "\n",
       "    .dataframe tbody tr th {\n",
       "        vertical-align: top;\n",
       "    }\n",
       "\n",
       "    .dataframe thead th {\n",
       "        text-align: right;\n",
       "    }\n",
       "</style>\n",
       "<table border=\"1\" class=\"dataframe\">\n",
       "  <thead>\n",
       "    <tr style=\"text-align: right;\">\n",
       "      <th></th>\n",
       "      <th>tweet_id</th>\n",
       "      <th>jpg_url</th>\n",
       "      <th>img_num</th>\n",
       "      <th>p1</th>\n",
       "      <th>p1_conf</th>\n",
       "      <th>p1_dog</th>\n",
       "      <th>p2</th>\n",
       "      <th>p2_conf</th>\n",
       "      <th>p2_dog</th>\n",
       "      <th>p3</th>\n",
       "      <th>p3_conf</th>\n",
       "      <th>p3_dog</th>\n",
       "    </tr>\n",
       "  </thead>\n",
       "  <tbody>\n",
       "    <tr>\n",
       "      <th>0</th>\n",
       "      <td>666020888022790149</td>\n",
       "      <td>https://pbs.twimg.com/media/CT4udn0WwAA0aMy.jpg</td>\n",
       "      <td>1</td>\n",
       "      <td>Welsh_springer_spaniel</td>\n",
       "      <td>0.465074</td>\n",
       "      <td>True</td>\n",
       "      <td>collie</td>\n",
       "      <td>0.156665</td>\n",
       "      <td>True</td>\n",
       "      <td>Shetland_sheepdog</td>\n",
       "      <td>0.061428</td>\n",
       "      <td>True</td>\n",
       "    </tr>\n",
       "    <tr>\n",
       "      <th>1</th>\n",
       "      <td>666029285002620928</td>\n",
       "      <td>https://pbs.twimg.com/media/CT42GRgUYAA5iDo.jpg</td>\n",
       "      <td>1</td>\n",
       "      <td>redbone</td>\n",
       "      <td>0.506826</td>\n",
       "      <td>True</td>\n",
       "      <td>miniature_pinscher</td>\n",
       "      <td>0.074192</td>\n",
       "      <td>True</td>\n",
       "      <td>Rhodesian_ridgeback</td>\n",
       "      <td>0.072010</td>\n",
       "      <td>True</td>\n",
       "    </tr>\n",
       "  </tbody>\n",
       "</table>\n",
       "</div>"
      ],
      "text/plain": [
       "             tweet_id                                          jpg_url  \\\n",
       "0  666020888022790149  https://pbs.twimg.com/media/CT4udn0WwAA0aMy.jpg   \n",
       "1  666029285002620928  https://pbs.twimg.com/media/CT42GRgUYAA5iDo.jpg   \n",
       "\n",
       "   img_num                      p1   p1_conf  p1_dog                  p2  \\\n",
       "0        1  Welsh_springer_spaniel  0.465074    True              collie   \n",
       "1        1                 redbone  0.506826    True  miniature_pinscher   \n",
       "\n",
       "    p2_conf  p2_dog                   p3   p3_conf  p3_dog  \n",
       "0  0.156665    True    Shetland_sheepdog  0.061428    True  \n",
       "1  0.074192    True  Rhodesian_ridgeback  0.072010    True  "
      ]
     },
     "execution_count": 48,
     "metadata": {},
     "output_type": "execute_result"
    }
   ],
   "source": [
    "# load tweet image predictions dataset\n",
    "\n",
    "path = \"https://d17h27t6h515a5.cloudfront.net/topher/2017/August/599fd2ad_image-predictions/image-predictions.tsv\"\n",
    "img_pred = pd.read_csv(path, sep = \"\\t\")\n",
    "img_pred.head(2)"
   ]
  },
  {
   "cell_type": "code",
   "execution_count": 49,
   "id": "648ecf72",
   "metadata": {
    "scrolled": false
   },
   "outputs": [
    {
     "data": {
      "text/html": [
       "<div>\n",
       "<style scoped>\n",
       "    .dataframe tbody tr th:only-of-type {\n",
       "        vertical-align: middle;\n",
       "    }\n",
       "\n",
       "    .dataframe tbody tr th {\n",
       "        vertical-align: top;\n",
       "    }\n",
       "\n",
       "    .dataframe thead th {\n",
       "        text-align: right;\n",
       "    }\n",
       "</style>\n",
       "<table border=\"1\" class=\"dataframe\">\n",
       "  <thead>\n",
       "    <tr style=\"text-align: right;\">\n",
       "      <th></th>\n",
       "      <th>tweet_id</th>\n",
       "      <th>retweets_count</th>\n",
       "      <th>favorite_count</th>\n",
       "    </tr>\n",
       "  </thead>\n",
       "  <tbody>\n",
       "    <tr>\n",
       "      <th>0</th>\n",
       "      <td>892420643555336193</td>\n",
       "      <td>8853</td>\n",
       "      <td>39467</td>\n",
       "    </tr>\n",
       "    <tr>\n",
       "      <th>1</th>\n",
       "      <td>892177421306343426</td>\n",
       "      <td>6514</td>\n",
       "      <td>33819</td>\n",
       "    </tr>\n",
       "    <tr>\n",
       "      <th>2</th>\n",
       "      <td>891815181378084864</td>\n",
       "      <td>4328</td>\n",
       "      <td>25461</td>\n",
       "    </tr>\n",
       "  </tbody>\n",
       "</table>\n",
       "</div>"
      ],
      "text/plain": [
       "             tweet_id  retweets_count  favorite_count\n",
       "0  892420643555336193            8853           39467\n",
       "1  892177421306343426            6514           33819\n",
       "2  891815181378084864            4328           25461"
      ]
     },
     "execution_count": 49,
     "metadata": {},
     "output_type": "execute_result"
    }
   ],
   "source": [
    "# load Additional data from the Twitter API from txt file\n",
    "\n",
    "df_tweet = []\n",
    "with open('tweet-json.txt') as f:\n",
    "    for line in f:\n",
    "        tweet = (json.loads(line))\n",
    "        tweet_id = tweet['id']\n",
    "        retweets_count = tweet['retweet_count']\n",
    "        favorite_count = tweet['favorite_count']\n",
    "        df_tweet.append({'tweet_id':tweet_id, 'retweets_count':retweets_count, 'favorite_count':favorite_count, })\n",
    "        \n",
    "twt_api = pd.DataFrame(df_tweet)\n",
    "twt_api.head(3)         "
   ]
  },
  {
   "cell_type": "markdown",
   "id": "cc12579e",
   "metadata": {},
   "source": [
    "## Assessing the data\n",
    "\n",
    "In this section, we perform visual and programatic assessment of the 3 datasets and outline our quality and tidiness issues .\n",
    "\n",
    "We start with the visual assessments by looking at the data with pandas and excel"
   ]
  },
  {
   "cell_type": "code",
   "execution_count": 53,
   "id": "2ca02865",
   "metadata": {
    "scrolled": false
   },
   "outputs": [
    {
     "data": {
      "text/html": [
       "<div>\n",
       "<style scoped>\n",
       "    .dataframe tbody tr th:only-of-type {\n",
       "        vertical-align: middle;\n",
       "    }\n",
       "\n",
       "    .dataframe tbody tr th {\n",
       "        vertical-align: top;\n",
       "    }\n",
       "\n",
       "    .dataframe thead th {\n",
       "        text-align: right;\n",
       "    }\n",
       "</style>\n",
       "<table border=\"1\" class=\"dataframe\">\n",
       "  <thead>\n",
       "    <tr style=\"text-align: right;\">\n",
       "      <th></th>\n",
       "      <th>tweet_id</th>\n",
       "      <th>in_reply_to_status_id</th>\n",
       "      <th>in_reply_to_user_id</th>\n",
       "      <th>timestamp</th>\n",
       "      <th>source</th>\n",
       "      <th>text</th>\n",
       "      <th>retweeted_status_id</th>\n",
       "      <th>retweeted_status_user_id</th>\n",
       "      <th>retweeted_status_timestamp</th>\n",
       "      <th>expanded_urls</th>\n",
       "      <th>rating_numerator</th>\n",
       "      <th>rating_denominator</th>\n",
       "      <th>name</th>\n",
       "      <th>doggo</th>\n",
       "      <th>floofer</th>\n",
       "      <th>pupper</th>\n",
       "      <th>puppo</th>\n",
       "    </tr>\n",
       "  </thead>\n",
       "  <tbody>\n",
       "    <tr>\n",
       "      <th>0</th>\n",
       "      <td>892420643555336193</td>\n",
       "      <td>NaN</td>\n",
       "      <td>NaN</td>\n",
       "      <td>2017-08-01 16:23:56 +0000</td>\n",
       "      <td>&lt;a href=\"http://twitter.com/download/iphone\" r...</td>\n",
       "      <td>This is Phineas. He's a mystical boy. Only eve...</td>\n",
       "      <td>NaN</td>\n",
       "      <td>NaN</td>\n",
       "      <td>NaN</td>\n",
       "      <td>https://twitter.com/dog_rates/status/892420643...</td>\n",
       "      <td>13</td>\n",
       "      <td>10</td>\n",
       "      <td>Phineas</td>\n",
       "      <td>None</td>\n",
       "      <td>None</td>\n",
       "      <td>None</td>\n",
       "      <td>None</td>\n",
       "    </tr>\n",
       "    <tr>\n",
       "      <th>1</th>\n",
       "      <td>892177421306343426</td>\n",
       "      <td>NaN</td>\n",
       "      <td>NaN</td>\n",
       "      <td>2017-08-01 00:17:27 +0000</td>\n",
       "      <td>&lt;a href=\"http://twitter.com/download/iphone\" r...</td>\n",
       "      <td>This is Tilly. She's just checking pup on you....</td>\n",
       "      <td>NaN</td>\n",
       "      <td>NaN</td>\n",
       "      <td>NaN</td>\n",
       "      <td>https://twitter.com/dog_rates/status/892177421...</td>\n",
       "      <td>13</td>\n",
       "      <td>10</td>\n",
       "      <td>Tilly</td>\n",
       "      <td>None</td>\n",
       "      <td>None</td>\n",
       "      <td>None</td>\n",
       "      <td>None</td>\n",
       "    </tr>\n",
       "    <tr>\n",
       "      <th>2</th>\n",
       "      <td>891815181378084864</td>\n",
       "      <td>NaN</td>\n",
       "      <td>NaN</td>\n",
       "      <td>2017-07-31 00:18:03 +0000</td>\n",
       "      <td>&lt;a href=\"http://twitter.com/download/iphone\" r...</td>\n",
       "      <td>This is Archie. He is a rare Norwegian Pouncin...</td>\n",
       "      <td>NaN</td>\n",
       "      <td>NaN</td>\n",
       "      <td>NaN</td>\n",
       "      <td>https://twitter.com/dog_rates/status/891815181...</td>\n",
       "      <td>12</td>\n",
       "      <td>10</td>\n",
       "      <td>Archie</td>\n",
       "      <td>None</td>\n",
       "      <td>None</td>\n",
       "      <td>None</td>\n",
       "      <td>None</td>\n",
       "    </tr>\n",
       "    <tr>\n",
       "      <th>3</th>\n",
       "      <td>891689557279858688</td>\n",
       "      <td>NaN</td>\n",
       "      <td>NaN</td>\n",
       "      <td>2017-07-30 15:58:51 +0000</td>\n",
       "      <td>&lt;a href=\"http://twitter.com/download/iphone\" r...</td>\n",
       "      <td>This is Darla. She commenced a snooze mid meal...</td>\n",
       "      <td>NaN</td>\n",
       "      <td>NaN</td>\n",
       "      <td>NaN</td>\n",
       "      <td>https://twitter.com/dog_rates/status/891689557...</td>\n",
       "      <td>13</td>\n",
       "      <td>10</td>\n",
       "      <td>Darla</td>\n",
       "      <td>None</td>\n",
       "      <td>None</td>\n",
       "      <td>None</td>\n",
       "      <td>None</td>\n",
       "    </tr>\n",
       "    <tr>\n",
       "      <th>4</th>\n",
       "      <td>891327558926688256</td>\n",
       "      <td>NaN</td>\n",
       "      <td>NaN</td>\n",
       "      <td>2017-07-29 16:00:24 +0000</td>\n",
       "      <td>&lt;a href=\"http://twitter.com/download/iphone\" r...</td>\n",
       "      <td>This is Franklin. He would like you to stop ca...</td>\n",
       "      <td>NaN</td>\n",
       "      <td>NaN</td>\n",
       "      <td>NaN</td>\n",
       "      <td>https://twitter.com/dog_rates/status/891327558...</td>\n",
       "      <td>12</td>\n",
       "      <td>10</td>\n",
       "      <td>Franklin</td>\n",
       "      <td>None</td>\n",
       "      <td>None</td>\n",
       "      <td>None</td>\n",
       "      <td>None</td>\n",
       "    </tr>\n",
       "  </tbody>\n",
       "</table>\n",
       "</div>"
      ],
      "text/plain": [
       "             tweet_id  in_reply_to_status_id  in_reply_to_user_id  \\\n",
       "0  892420643555336193                    NaN                  NaN   \n",
       "1  892177421306343426                    NaN                  NaN   \n",
       "2  891815181378084864                    NaN                  NaN   \n",
       "3  891689557279858688                    NaN                  NaN   \n",
       "4  891327558926688256                    NaN                  NaN   \n",
       "\n",
       "                   timestamp  \\\n",
       "0  2017-08-01 16:23:56 +0000   \n",
       "1  2017-08-01 00:17:27 +0000   \n",
       "2  2017-07-31 00:18:03 +0000   \n",
       "3  2017-07-30 15:58:51 +0000   \n",
       "4  2017-07-29 16:00:24 +0000   \n",
       "\n",
       "                                              source  \\\n",
       "0  <a href=\"http://twitter.com/download/iphone\" r...   \n",
       "1  <a href=\"http://twitter.com/download/iphone\" r...   \n",
       "2  <a href=\"http://twitter.com/download/iphone\" r...   \n",
       "3  <a href=\"http://twitter.com/download/iphone\" r...   \n",
       "4  <a href=\"http://twitter.com/download/iphone\" r...   \n",
       "\n",
       "                                                text  retweeted_status_id  \\\n",
       "0  This is Phineas. He's a mystical boy. Only eve...                  NaN   \n",
       "1  This is Tilly. She's just checking pup on you....                  NaN   \n",
       "2  This is Archie. He is a rare Norwegian Pouncin...                  NaN   \n",
       "3  This is Darla. She commenced a snooze mid meal...                  NaN   \n",
       "4  This is Franklin. He would like you to stop ca...                  NaN   \n",
       "\n",
       "   retweeted_status_user_id retweeted_status_timestamp  \\\n",
       "0                       NaN                        NaN   \n",
       "1                       NaN                        NaN   \n",
       "2                       NaN                        NaN   \n",
       "3                       NaN                        NaN   \n",
       "4                       NaN                        NaN   \n",
       "\n",
       "                                       expanded_urls  rating_numerator  \\\n",
       "0  https://twitter.com/dog_rates/status/892420643...                13   \n",
       "1  https://twitter.com/dog_rates/status/892177421...                13   \n",
       "2  https://twitter.com/dog_rates/status/891815181...                12   \n",
       "3  https://twitter.com/dog_rates/status/891689557...                13   \n",
       "4  https://twitter.com/dog_rates/status/891327558...                12   \n",
       "\n",
       "   rating_denominator      name doggo floofer pupper puppo  \n",
       "0                  10   Phineas  None    None   None  None  \n",
       "1                  10     Tilly  None    None   None  None  \n",
       "2                  10    Archie  None    None   None  None  \n",
       "3                  10     Darla  None    None   None  None  \n",
       "4                  10  Franklin  None    None   None  None  "
      ]
     },
     "execution_count": 53,
     "metadata": {},
     "output_type": "execute_result"
    }
   ],
   "source": [
    "# visual assessment of Twitter archive dataset\n",
    "\n",
    "twt_archive.head()"
   ]
  },
  {
   "cell_type": "code",
   "execution_count": 54,
   "id": "4b71d83d",
   "metadata": {
    "scrolled": false
   },
   "outputs": [
    {
     "data": {
      "text/html": [
       "<div>\n",
       "<style scoped>\n",
       "    .dataframe tbody tr th:only-of-type {\n",
       "        vertical-align: middle;\n",
       "    }\n",
       "\n",
       "    .dataframe tbody tr th {\n",
       "        vertical-align: top;\n",
       "    }\n",
       "\n",
       "    .dataframe thead th {\n",
       "        text-align: right;\n",
       "    }\n",
       "</style>\n",
       "<table border=\"1\" class=\"dataframe\">\n",
       "  <thead>\n",
       "    <tr style=\"text-align: right;\">\n",
       "      <th></th>\n",
       "      <th>tweet_id</th>\n",
       "      <th>jpg_url</th>\n",
       "      <th>img_num</th>\n",
       "      <th>p1</th>\n",
       "      <th>p1_conf</th>\n",
       "      <th>p1_dog</th>\n",
       "      <th>p2</th>\n",
       "      <th>p2_conf</th>\n",
       "      <th>p2_dog</th>\n",
       "      <th>p3</th>\n",
       "      <th>p3_conf</th>\n",
       "      <th>p3_dog</th>\n",
       "    </tr>\n",
       "  </thead>\n",
       "  <tbody>\n",
       "    <tr>\n",
       "      <th>0</th>\n",
       "      <td>666020888022790149</td>\n",
       "      <td>https://pbs.twimg.com/media/CT4udn0WwAA0aMy.jpg</td>\n",
       "      <td>1</td>\n",
       "      <td>Welsh_springer_spaniel</td>\n",
       "      <td>0.465074</td>\n",
       "      <td>True</td>\n",
       "      <td>collie</td>\n",
       "      <td>0.156665</td>\n",
       "      <td>True</td>\n",
       "      <td>Shetland_sheepdog</td>\n",
       "      <td>0.061428</td>\n",
       "      <td>True</td>\n",
       "    </tr>\n",
       "    <tr>\n",
       "      <th>1</th>\n",
       "      <td>666029285002620928</td>\n",
       "      <td>https://pbs.twimg.com/media/CT42GRgUYAA5iDo.jpg</td>\n",
       "      <td>1</td>\n",
       "      <td>redbone</td>\n",
       "      <td>0.506826</td>\n",
       "      <td>True</td>\n",
       "      <td>miniature_pinscher</td>\n",
       "      <td>0.074192</td>\n",
       "      <td>True</td>\n",
       "      <td>Rhodesian_ridgeback</td>\n",
       "      <td>0.072010</td>\n",
       "      <td>True</td>\n",
       "    </tr>\n",
       "    <tr>\n",
       "      <th>2</th>\n",
       "      <td>666033412701032449</td>\n",
       "      <td>https://pbs.twimg.com/media/CT4521TWwAEvMyu.jpg</td>\n",
       "      <td>1</td>\n",
       "      <td>German_shepherd</td>\n",
       "      <td>0.596461</td>\n",
       "      <td>True</td>\n",
       "      <td>malinois</td>\n",
       "      <td>0.138584</td>\n",
       "      <td>True</td>\n",
       "      <td>bloodhound</td>\n",
       "      <td>0.116197</td>\n",
       "      <td>True</td>\n",
       "    </tr>\n",
       "    <tr>\n",
       "      <th>3</th>\n",
       "      <td>666044226329800704</td>\n",
       "      <td>https://pbs.twimg.com/media/CT5Dr8HUEAA-lEu.jpg</td>\n",
       "      <td>1</td>\n",
       "      <td>Rhodesian_ridgeback</td>\n",
       "      <td>0.408143</td>\n",
       "      <td>True</td>\n",
       "      <td>redbone</td>\n",
       "      <td>0.360687</td>\n",
       "      <td>True</td>\n",
       "      <td>miniature_pinscher</td>\n",
       "      <td>0.222752</td>\n",
       "      <td>True</td>\n",
       "    </tr>\n",
       "    <tr>\n",
       "      <th>4</th>\n",
       "      <td>666049248165822465</td>\n",
       "      <td>https://pbs.twimg.com/media/CT5IQmsXIAAKY4A.jpg</td>\n",
       "      <td>1</td>\n",
       "      <td>miniature_pinscher</td>\n",
       "      <td>0.560311</td>\n",
       "      <td>True</td>\n",
       "      <td>Rottweiler</td>\n",
       "      <td>0.243682</td>\n",
       "      <td>True</td>\n",
       "      <td>Doberman</td>\n",
       "      <td>0.154629</td>\n",
       "      <td>True</td>\n",
       "    </tr>\n",
       "  </tbody>\n",
       "</table>\n",
       "</div>"
      ],
      "text/plain": [
       "             tweet_id                                          jpg_url  \\\n",
       "0  666020888022790149  https://pbs.twimg.com/media/CT4udn0WwAA0aMy.jpg   \n",
       "1  666029285002620928  https://pbs.twimg.com/media/CT42GRgUYAA5iDo.jpg   \n",
       "2  666033412701032449  https://pbs.twimg.com/media/CT4521TWwAEvMyu.jpg   \n",
       "3  666044226329800704  https://pbs.twimg.com/media/CT5Dr8HUEAA-lEu.jpg   \n",
       "4  666049248165822465  https://pbs.twimg.com/media/CT5IQmsXIAAKY4A.jpg   \n",
       "\n",
       "   img_num                      p1   p1_conf  p1_dog                  p2  \\\n",
       "0        1  Welsh_springer_spaniel  0.465074    True              collie   \n",
       "1        1                 redbone  0.506826    True  miniature_pinscher   \n",
       "2        1         German_shepherd  0.596461    True            malinois   \n",
       "3        1     Rhodesian_ridgeback  0.408143    True             redbone   \n",
       "4        1      miniature_pinscher  0.560311    True          Rottweiler   \n",
       "\n",
       "    p2_conf  p2_dog                   p3   p3_conf  p3_dog  \n",
       "0  0.156665    True    Shetland_sheepdog  0.061428    True  \n",
       "1  0.074192    True  Rhodesian_ridgeback  0.072010    True  \n",
       "2  0.138584    True           bloodhound  0.116197    True  \n",
       "3  0.360687    True   miniature_pinscher  0.222752    True  \n",
       "4  0.243682    True             Doberman  0.154629    True  "
      ]
     },
     "execution_count": 54,
     "metadata": {},
     "output_type": "execute_result"
    }
   ],
   "source": [
    "# visual assessment of tweet image predictions dataset\n",
    "\n",
    "img_pred.head()"
   ]
  },
  {
   "cell_type": "code",
   "execution_count": 55,
   "id": "38cc7216",
   "metadata": {},
   "outputs": [
    {
     "data": {
      "text/html": [
       "<div>\n",
       "<style scoped>\n",
       "    .dataframe tbody tr th:only-of-type {\n",
       "        vertical-align: middle;\n",
       "    }\n",
       "\n",
       "    .dataframe tbody tr th {\n",
       "        vertical-align: top;\n",
       "    }\n",
       "\n",
       "    .dataframe thead th {\n",
       "        text-align: right;\n",
       "    }\n",
       "</style>\n",
       "<table border=\"1\" class=\"dataframe\">\n",
       "  <thead>\n",
       "    <tr style=\"text-align: right;\">\n",
       "      <th></th>\n",
       "      <th>tweet_id</th>\n",
       "      <th>retweets_count</th>\n",
       "      <th>favorite_count</th>\n",
       "    </tr>\n",
       "  </thead>\n",
       "  <tbody>\n",
       "    <tr>\n",
       "      <th>0</th>\n",
       "      <td>892420643555336193</td>\n",
       "      <td>8853</td>\n",
       "      <td>39467</td>\n",
       "    </tr>\n",
       "    <tr>\n",
       "      <th>1</th>\n",
       "      <td>892177421306343426</td>\n",
       "      <td>6514</td>\n",
       "      <td>33819</td>\n",
       "    </tr>\n",
       "    <tr>\n",
       "      <th>2</th>\n",
       "      <td>891815181378084864</td>\n",
       "      <td>4328</td>\n",
       "      <td>25461</td>\n",
       "    </tr>\n",
       "    <tr>\n",
       "      <th>3</th>\n",
       "      <td>891689557279858688</td>\n",
       "      <td>8964</td>\n",
       "      <td>42908</td>\n",
       "    </tr>\n",
       "    <tr>\n",
       "      <th>4</th>\n",
       "      <td>891327558926688256</td>\n",
       "      <td>9774</td>\n",
       "      <td>41048</td>\n",
       "    </tr>\n",
       "  </tbody>\n",
       "</table>\n",
       "</div>"
      ],
      "text/plain": [
       "             tweet_id  retweets_count  favorite_count\n",
       "0  892420643555336193            8853           39467\n",
       "1  892177421306343426            6514           33819\n",
       "2  891815181378084864            4328           25461\n",
       "3  891689557279858688            8964           42908\n",
       "4  891327558926688256            9774           41048"
      ]
     },
     "execution_count": 55,
     "metadata": {},
     "output_type": "execute_result"
    }
   ],
   "source": [
    "# visual assessment of data from the Twitter API from txt file\n",
    "\n",
    "twt_api.head()"
   ]
  },
  {
   "cell_type": "markdown",
   "id": "3decd0d1",
   "metadata": {},
   "source": [
    "We begin our programtic assessment from here by using multiple approaches"
   ]
  },
  {
   "cell_type": "code",
   "execution_count": 59,
   "id": "66d382b4",
   "metadata": {},
   "outputs": [
    {
     "name": "stdout",
     "output_type": "stream",
     "text": [
      "<class 'pandas.core.frame.DataFrame'>\n",
      "RangeIndex: 2356 entries, 0 to 2355\n",
      "Data columns (total 17 columns):\n",
      " #   Column                      Non-Null Count  Dtype  \n",
      "---  ------                      --------------  -----  \n",
      " 0   tweet_id                    2356 non-null   int64  \n",
      " 1   in_reply_to_status_id       78 non-null     float64\n",
      " 2   in_reply_to_user_id         78 non-null     float64\n",
      " 3   timestamp                   2356 non-null   object \n",
      " 4   source                      2356 non-null   object \n",
      " 5   text                        2356 non-null   object \n",
      " 6   retweeted_status_id         181 non-null    float64\n",
      " 7   retweeted_status_user_id    181 non-null    float64\n",
      " 8   retweeted_status_timestamp  181 non-null    object \n",
      " 9   expanded_urls               2297 non-null   object \n",
      " 10  rating_numerator            2356 non-null   int64  \n",
      " 11  rating_denominator          2356 non-null   int64  \n",
      " 12  name                        2356 non-null   object \n",
      " 13  doggo                       2356 non-null   object \n",
      " 14  floofer                     2356 non-null   object \n",
      " 15  pupper                      2356 non-null   object \n",
      " 16  puppo                       2356 non-null   object \n",
      "dtypes: float64(4), int64(3), object(10)\n",
      "memory usage: 313.0+ KB\n"
     ]
    }
   ],
   "source": [
    "# assess the various data types associated with the variables\n",
    "\n",
    "twt_archive.info()"
   ]
  },
  {
   "cell_type": "code",
   "execution_count": 60,
   "id": "d5cd9658",
   "metadata": {},
   "outputs": [
    {
     "name": "stdout",
     "output_type": "stream",
     "text": [
      "<class 'pandas.core.frame.DataFrame'>\n",
      "RangeIndex: 2075 entries, 0 to 2074\n",
      "Data columns (total 12 columns):\n",
      " #   Column    Non-Null Count  Dtype  \n",
      "---  ------    --------------  -----  \n",
      " 0   tweet_id  2075 non-null   int64  \n",
      " 1   jpg_url   2075 non-null   object \n",
      " 2   img_num   2075 non-null   int64  \n",
      " 3   p1        2075 non-null   object \n",
      " 4   p1_conf   2075 non-null   float64\n",
      " 5   p1_dog    2075 non-null   bool   \n",
      " 6   p2        2075 non-null   object \n",
      " 7   p2_conf   2075 non-null   float64\n",
      " 8   p2_dog    2075 non-null   bool   \n",
      " 9   p3        2075 non-null   object \n",
      " 10  p3_conf   2075 non-null   float64\n",
      " 11  p3_dog    2075 non-null   bool   \n",
      "dtypes: bool(3), float64(3), int64(2), object(4)\n",
      "memory usage: 152.1+ KB\n"
     ]
    }
   ],
   "source": [
    "img_pred.info()"
   ]
  },
  {
   "cell_type": "code",
   "execution_count": 61,
   "id": "d0ed91a2",
   "metadata": {},
   "outputs": [
    {
     "name": "stdout",
     "output_type": "stream",
     "text": [
      "<class 'pandas.core.frame.DataFrame'>\n",
      "RangeIndex: 2354 entries, 0 to 2353\n",
      "Data columns (total 3 columns):\n",
      " #   Column          Non-Null Count  Dtype\n",
      "---  ------          --------------  -----\n",
      " 0   tweet_id        2354 non-null   int64\n",
      " 1   retweets_count  2354 non-null   int64\n",
      " 2   favorite_count  2354 non-null   int64\n",
      "dtypes: int64(3)\n",
      "memory usage: 55.3 KB\n"
     ]
    }
   ],
   "source": [
    "twt_api.info()"
   ]
  },
  {
   "cell_type": "code",
   "execution_count": 51,
   "id": "9dcd0e03",
   "metadata": {},
   "outputs": [
    {
     "data": {
      "text/plain": [
       "0"
      ]
     },
     "execution_count": 51,
     "metadata": {},
     "output_type": "execute_result"
    }
   ],
   "source": [
    "# check for duplicates\n",
    "\n",
    "twt_archive.duplicated().sum()"
   ]
  },
  {
   "cell_type": "code",
   "execution_count": 43,
   "id": "ff3a0eac",
   "metadata": {},
   "outputs": [
    {
     "data": {
      "text/plain": [
       "0"
      ]
     },
     "execution_count": 43,
     "metadata": {},
     "output_type": "execute_result"
    }
   ],
   "source": [
    "img_pred.duplicated().sum()"
   ]
  },
  {
   "cell_type": "code",
   "execution_count": 44,
   "id": "1182804a",
   "metadata": {},
   "outputs": [
    {
     "data": {
      "text/plain": [
       "0"
      ]
     },
     "execution_count": 44,
     "metadata": {},
     "output_type": "execute_result"
    }
   ],
   "source": [
    "twt_api.duplicated().sum()"
   ]
  },
  {
   "cell_type": "code",
   "execution_count": 63,
   "id": "f029746d",
   "metadata": {},
   "outputs": [
    {
     "data": {
      "text/plain": [
       "tweet_id                         0\n",
       "in_reply_to_status_id         2278\n",
       "in_reply_to_user_id           2278\n",
       "timestamp                        0\n",
       "source                           0\n",
       "text                             0\n",
       "retweeted_status_id           2175\n",
       "retweeted_status_user_id      2175\n",
       "retweeted_status_timestamp    2175\n",
       "expanded_urls                   59\n",
       "rating_numerator                 0\n",
       "rating_denominator               0\n",
       "name                             0\n",
       "doggo                            0\n",
       "floofer                          0\n",
       "pupper                           0\n",
       "puppo                            0\n",
       "dtype: int64"
      ]
     },
     "execution_count": 63,
     "metadata": {},
     "output_type": "execute_result"
    }
   ],
   "source": [
    "# check for missing data\n",
    "\n",
    "twt_archive.isna().sum()"
   ]
  },
  {
   "cell_type": "code",
   "execution_count": 64,
   "id": "bc59c2bc",
   "metadata": {},
   "outputs": [
    {
     "data": {
      "text/plain": [
       "tweet_id    0\n",
       "jpg_url     0\n",
       "img_num     0\n",
       "p1          0\n",
       "p1_conf     0\n",
       "p1_dog      0\n",
       "p2          0\n",
       "p2_conf     0\n",
       "p2_dog      0\n",
       "p3          0\n",
       "p3_conf     0\n",
       "p3_dog      0\n",
       "dtype: int64"
      ]
     },
     "execution_count": 64,
     "metadata": {},
     "output_type": "execute_result"
    }
   ],
   "source": [
    "img_pred.isna().sum()"
   ]
  },
  {
   "cell_type": "code",
   "execution_count": 65,
   "id": "51936c00",
   "metadata": {},
   "outputs": [
    {
     "data": {
      "text/plain": [
       "tweet_id          0\n",
       "retweets_count    0\n",
       "favorite_count    0\n",
       "dtype: int64"
      ]
     },
     "execution_count": 65,
     "metadata": {},
     "output_type": "execute_result"
    }
   ],
   "source": [
    "twt_api.isna().sum()"
   ]
  },
  {
   "cell_type": "code",
   "execution_count": 56,
   "id": "392930e0",
   "metadata": {},
   "outputs": [
    {
     "data": {
      "text/html": [
       "<div>\n",
       "<style scoped>\n",
       "    .dataframe tbody tr th:only-of-type {\n",
       "        vertical-align: middle;\n",
       "    }\n",
       "\n",
       "    .dataframe tbody tr th {\n",
       "        vertical-align: top;\n",
       "    }\n",
       "\n",
       "    .dataframe thead th {\n",
       "        text-align: right;\n",
       "    }\n",
       "</style>\n",
       "<table border=\"1\" class=\"dataframe\">\n",
       "  <thead>\n",
       "    <tr style=\"text-align: right;\">\n",
       "      <th></th>\n",
       "      <th>tweet_id</th>\n",
       "      <th>in_reply_to_status_id</th>\n",
       "      <th>in_reply_to_user_id</th>\n",
       "      <th>retweeted_status_id</th>\n",
       "      <th>retweeted_status_user_id</th>\n",
       "      <th>rating_numerator</th>\n",
       "      <th>rating_denominator</th>\n",
       "    </tr>\n",
       "  </thead>\n",
       "  <tbody>\n",
       "    <tr>\n",
       "      <th>count</th>\n",
       "      <td>2.356000e+03</td>\n",
       "      <td>7.800000e+01</td>\n",
       "      <td>7.800000e+01</td>\n",
       "      <td>1.810000e+02</td>\n",
       "      <td>1.810000e+02</td>\n",
       "      <td>2356.000000</td>\n",
       "      <td>2356.000000</td>\n",
       "    </tr>\n",
       "    <tr>\n",
       "      <th>mean</th>\n",
       "      <td>7.427716e+17</td>\n",
       "      <td>7.455079e+17</td>\n",
       "      <td>2.014171e+16</td>\n",
       "      <td>7.720400e+17</td>\n",
       "      <td>1.241698e+16</td>\n",
       "      <td>13.126486</td>\n",
       "      <td>10.455433</td>\n",
       "    </tr>\n",
       "    <tr>\n",
       "      <th>std</th>\n",
       "      <td>6.856705e+16</td>\n",
       "      <td>7.582492e+16</td>\n",
       "      <td>1.252797e+17</td>\n",
       "      <td>6.236928e+16</td>\n",
       "      <td>9.599254e+16</td>\n",
       "      <td>45.876648</td>\n",
       "      <td>6.745237</td>\n",
       "    </tr>\n",
       "    <tr>\n",
       "      <th>min</th>\n",
       "      <td>6.660209e+17</td>\n",
       "      <td>6.658147e+17</td>\n",
       "      <td>1.185634e+07</td>\n",
       "      <td>6.661041e+17</td>\n",
       "      <td>7.832140e+05</td>\n",
       "      <td>0.000000</td>\n",
       "      <td>0.000000</td>\n",
       "    </tr>\n",
       "    <tr>\n",
       "      <th>25%</th>\n",
       "      <td>6.783989e+17</td>\n",
       "      <td>6.757419e+17</td>\n",
       "      <td>3.086374e+08</td>\n",
       "      <td>7.186315e+17</td>\n",
       "      <td>4.196984e+09</td>\n",
       "      <td>10.000000</td>\n",
       "      <td>10.000000</td>\n",
       "    </tr>\n",
       "    <tr>\n",
       "      <th>50%</th>\n",
       "      <td>7.196279e+17</td>\n",
       "      <td>7.038708e+17</td>\n",
       "      <td>4.196984e+09</td>\n",
       "      <td>7.804657e+17</td>\n",
       "      <td>4.196984e+09</td>\n",
       "      <td>11.000000</td>\n",
       "      <td>10.000000</td>\n",
       "    </tr>\n",
       "    <tr>\n",
       "      <th>75%</th>\n",
       "      <td>7.993373e+17</td>\n",
       "      <td>8.257804e+17</td>\n",
       "      <td>4.196984e+09</td>\n",
       "      <td>8.203146e+17</td>\n",
       "      <td>4.196984e+09</td>\n",
       "      <td>12.000000</td>\n",
       "      <td>10.000000</td>\n",
       "    </tr>\n",
       "    <tr>\n",
       "      <th>max</th>\n",
       "      <td>8.924206e+17</td>\n",
       "      <td>8.862664e+17</td>\n",
       "      <td>8.405479e+17</td>\n",
       "      <td>8.874740e+17</td>\n",
       "      <td>7.874618e+17</td>\n",
       "      <td>1776.000000</td>\n",
       "      <td>170.000000</td>\n",
       "    </tr>\n",
       "  </tbody>\n",
       "</table>\n",
       "</div>"
      ],
      "text/plain": [
       "           tweet_id  in_reply_to_status_id  in_reply_to_user_id  \\\n",
       "count  2.356000e+03           7.800000e+01         7.800000e+01   \n",
       "mean   7.427716e+17           7.455079e+17         2.014171e+16   \n",
       "std    6.856705e+16           7.582492e+16         1.252797e+17   \n",
       "min    6.660209e+17           6.658147e+17         1.185634e+07   \n",
       "25%    6.783989e+17           6.757419e+17         3.086374e+08   \n",
       "50%    7.196279e+17           7.038708e+17         4.196984e+09   \n",
       "75%    7.993373e+17           8.257804e+17         4.196984e+09   \n",
       "max    8.924206e+17           8.862664e+17         8.405479e+17   \n",
       "\n",
       "       retweeted_status_id  retweeted_status_user_id  rating_numerator  \\\n",
       "count         1.810000e+02              1.810000e+02       2356.000000   \n",
       "mean          7.720400e+17              1.241698e+16         13.126486   \n",
       "std           6.236928e+16              9.599254e+16         45.876648   \n",
       "min           6.661041e+17              7.832140e+05          0.000000   \n",
       "25%           7.186315e+17              4.196984e+09         10.000000   \n",
       "50%           7.804657e+17              4.196984e+09         11.000000   \n",
       "75%           8.203146e+17              4.196984e+09         12.000000   \n",
       "max           8.874740e+17              7.874618e+17       1776.000000   \n",
       "\n",
       "       rating_denominator  \n",
       "count         2356.000000  \n",
       "mean            10.455433  \n",
       "std              6.745237  \n",
       "min              0.000000  \n",
       "25%             10.000000  \n",
       "50%             10.000000  \n",
       "75%             10.000000  \n",
       "max            170.000000  "
      ]
     },
     "execution_count": 56,
     "metadata": {},
     "output_type": "execute_result"
    }
   ],
   "source": [
    "# check summary stats on numeric variables\n",
    "\n",
    "twt_archive.describe()"
   ]
  },
  {
   "cell_type": "code",
   "execution_count": 58,
   "id": "2df5dbc4",
   "metadata": {},
   "outputs": [
    {
     "data": {
      "text/html": [
       "<div>\n",
       "<style scoped>\n",
       "    .dataframe tbody tr th:only-of-type {\n",
       "        vertical-align: middle;\n",
       "    }\n",
       "\n",
       "    .dataframe tbody tr th {\n",
       "        vertical-align: top;\n",
       "    }\n",
       "\n",
       "    .dataframe thead th {\n",
       "        text-align: right;\n",
       "    }\n",
       "</style>\n",
       "<table border=\"1\" class=\"dataframe\">\n",
       "  <thead>\n",
       "    <tr style=\"text-align: right;\">\n",
       "      <th></th>\n",
       "      <th>tweet_id</th>\n",
       "      <th>img_num</th>\n",
       "      <th>p1_conf</th>\n",
       "      <th>p2_conf</th>\n",
       "      <th>p3_conf</th>\n",
       "    </tr>\n",
       "  </thead>\n",
       "  <tbody>\n",
       "    <tr>\n",
       "      <th>count</th>\n",
       "      <td>2.075000e+03</td>\n",
       "      <td>2075.000000</td>\n",
       "      <td>2075.000000</td>\n",
       "      <td>2.075000e+03</td>\n",
       "      <td>2.075000e+03</td>\n",
       "    </tr>\n",
       "    <tr>\n",
       "      <th>mean</th>\n",
       "      <td>7.384514e+17</td>\n",
       "      <td>1.203855</td>\n",
       "      <td>0.594548</td>\n",
       "      <td>1.345886e-01</td>\n",
       "      <td>6.032417e-02</td>\n",
       "    </tr>\n",
       "    <tr>\n",
       "      <th>std</th>\n",
       "      <td>6.785203e+16</td>\n",
       "      <td>0.561875</td>\n",
       "      <td>0.271174</td>\n",
       "      <td>1.006657e-01</td>\n",
       "      <td>5.090593e-02</td>\n",
       "    </tr>\n",
       "    <tr>\n",
       "      <th>min</th>\n",
       "      <td>6.660209e+17</td>\n",
       "      <td>1.000000</td>\n",
       "      <td>0.044333</td>\n",
       "      <td>1.011300e-08</td>\n",
       "      <td>1.740170e-10</td>\n",
       "    </tr>\n",
       "    <tr>\n",
       "      <th>25%</th>\n",
       "      <td>6.764835e+17</td>\n",
       "      <td>1.000000</td>\n",
       "      <td>0.364412</td>\n",
       "      <td>5.388625e-02</td>\n",
       "      <td>1.622240e-02</td>\n",
       "    </tr>\n",
       "    <tr>\n",
       "      <th>50%</th>\n",
       "      <td>7.119988e+17</td>\n",
       "      <td>1.000000</td>\n",
       "      <td>0.588230</td>\n",
       "      <td>1.181810e-01</td>\n",
       "      <td>4.944380e-02</td>\n",
       "    </tr>\n",
       "    <tr>\n",
       "      <th>75%</th>\n",
       "      <td>7.932034e+17</td>\n",
       "      <td>1.000000</td>\n",
       "      <td>0.843855</td>\n",
       "      <td>1.955655e-01</td>\n",
       "      <td>9.180755e-02</td>\n",
       "    </tr>\n",
       "    <tr>\n",
       "      <th>max</th>\n",
       "      <td>8.924206e+17</td>\n",
       "      <td>4.000000</td>\n",
       "      <td>1.000000</td>\n",
       "      <td>4.880140e-01</td>\n",
       "      <td>2.734190e-01</td>\n",
       "    </tr>\n",
       "  </tbody>\n",
       "</table>\n",
       "</div>"
      ],
      "text/plain": [
       "           tweet_id      img_num      p1_conf       p2_conf       p3_conf\n",
       "count  2.075000e+03  2075.000000  2075.000000  2.075000e+03  2.075000e+03\n",
       "mean   7.384514e+17     1.203855     0.594548  1.345886e-01  6.032417e-02\n",
       "std    6.785203e+16     0.561875     0.271174  1.006657e-01  5.090593e-02\n",
       "min    6.660209e+17     1.000000     0.044333  1.011300e-08  1.740170e-10\n",
       "25%    6.764835e+17     1.000000     0.364412  5.388625e-02  1.622240e-02\n",
       "50%    7.119988e+17     1.000000     0.588230  1.181810e-01  4.944380e-02\n",
       "75%    7.932034e+17     1.000000     0.843855  1.955655e-01  9.180755e-02\n",
       "max    8.924206e+17     4.000000     1.000000  4.880140e-01  2.734190e-01"
      ]
     },
     "execution_count": 58,
     "metadata": {},
     "output_type": "execute_result"
    }
   ],
   "source": [
    "img_pred.describe()"
   ]
  },
  {
   "cell_type": "code",
   "execution_count": 57,
   "id": "cfb5ea9d",
   "metadata": {
    "scrolled": true
   },
   "outputs": [
    {
     "data": {
      "text/html": [
       "<div>\n",
       "<style scoped>\n",
       "    .dataframe tbody tr th:only-of-type {\n",
       "        vertical-align: middle;\n",
       "    }\n",
       "\n",
       "    .dataframe tbody tr th {\n",
       "        vertical-align: top;\n",
       "    }\n",
       "\n",
       "    .dataframe thead th {\n",
       "        text-align: right;\n",
       "    }\n",
       "</style>\n",
       "<table border=\"1\" class=\"dataframe\">\n",
       "  <thead>\n",
       "    <tr style=\"text-align: right;\">\n",
       "      <th></th>\n",
       "      <th>tweet_id</th>\n",
       "      <th>retweets_count</th>\n",
       "      <th>favorite_count</th>\n",
       "    </tr>\n",
       "  </thead>\n",
       "  <tbody>\n",
       "    <tr>\n",
       "      <th>count</th>\n",
       "      <td>2.354000e+03</td>\n",
       "      <td>2354.000000</td>\n",
       "      <td>2354.000000</td>\n",
       "    </tr>\n",
       "    <tr>\n",
       "      <th>mean</th>\n",
       "      <td>7.426978e+17</td>\n",
       "      <td>3164.797366</td>\n",
       "      <td>8080.968564</td>\n",
       "    </tr>\n",
       "    <tr>\n",
       "      <th>std</th>\n",
       "      <td>6.852812e+16</td>\n",
       "      <td>5284.770364</td>\n",
       "      <td>11814.771334</td>\n",
       "    </tr>\n",
       "    <tr>\n",
       "      <th>min</th>\n",
       "      <td>6.660209e+17</td>\n",
       "      <td>0.000000</td>\n",
       "      <td>0.000000</td>\n",
       "    </tr>\n",
       "    <tr>\n",
       "      <th>25%</th>\n",
       "      <td>6.783975e+17</td>\n",
       "      <td>624.500000</td>\n",
       "      <td>1415.000000</td>\n",
       "    </tr>\n",
       "    <tr>\n",
       "      <th>50%</th>\n",
       "      <td>7.194596e+17</td>\n",
       "      <td>1473.500000</td>\n",
       "      <td>3603.500000</td>\n",
       "    </tr>\n",
       "    <tr>\n",
       "      <th>75%</th>\n",
       "      <td>7.993058e+17</td>\n",
       "      <td>3652.000000</td>\n",
       "      <td>10122.250000</td>\n",
       "    </tr>\n",
       "    <tr>\n",
       "      <th>max</th>\n",
       "      <td>8.924206e+17</td>\n",
       "      <td>79515.000000</td>\n",
       "      <td>132810.000000</td>\n",
       "    </tr>\n",
       "  </tbody>\n",
       "</table>\n",
       "</div>"
      ],
      "text/plain": [
       "           tweet_id  retweets_count  favorite_count\n",
       "count  2.354000e+03     2354.000000     2354.000000\n",
       "mean   7.426978e+17     3164.797366     8080.968564\n",
       "std    6.852812e+16     5284.770364    11814.771334\n",
       "min    6.660209e+17        0.000000        0.000000\n",
       "25%    6.783975e+17      624.500000     1415.000000\n",
       "50%    7.194596e+17     1473.500000     3603.500000\n",
       "75%    7.993058e+17     3652.000000    10122.250000\n",
       "max    8.924206e+17    79515.000000   132810.000000"
      ]
     },
     "execution_count": 57,
     "metadata": {},
     "output_type": "execute_result"
    }
   ],
   "source": [
    "twt_api.describe()"
   ]
  },
  {
   "cell_type": "markdown",
   "id": "4d687ee6",
   "metadata": {},
   "source": [
    "### Quality issues\n",
    "\n",
    "#### `twitter_archive` table\n",
    "* tweet_id is number not a string\n",
    "* only keep original ratings (no retweets) that have images for analysis\n",
    "* 'None' is used to represet missing data in name column and dog stage columns\n",
    "* 'timestamp' should be formatted as a date\n",
    "* 'expanded_urls', etc should be dropped from the data for the analysis\n",
    "* numerator ratings should be formatted as floats\n",
    "* incorrect dog names name column\n",
    "* some ratings_numerator values have decimal\n",
    "* some records have more than on dog stage\n",
    "\n",
    "#### `image_predictions` table\n",
    "* tweet_id is number not a string\n",
    "\n",
    "#### `twitter_api_data` table\n",
    "* tweet_id is number not a string"
   ]
  },
  {
   "cell_type": "markdown",
   "id": "6fd1d151",
   "metadata": {},
   "source": [
    "### Tidiness issues\n",
    "\n",
    "#### `twitter_archive` table\n",
    "* the dog stages: doggo, floofer, pupper and puppo columns should be merged into one column \n",
    "\n",
    "#### `image_predictions` table\n",
    "* the image predictions table should be merged with the twitter archive \n",
    "\n",
    "#### `twitter_api_data` table\n",
    "* the twitter api table columns should be merged with the twitter archive\n",
    "\n",
    "\n"
   ]
  },
  {
   "cell_type": "markdown",
   "id": "6225c37f",
   "metadata": {},
   "source": [
    "## Cleaning the data\n",
    "\n",
    "In this section, we perform data cleaning on the 3 datasets using the define-code-test framework.\n",
    "\n",
    "We begin be making copies of the orignal data sets"
   ]
  },
  {
   "cell_type": "code",
   "execution_count": 314,
   "id": "f79fbf69",
   "metadata": {},
   "outputs": [],
   "source": [
    "# Make copies of the original datasets\n",
    "\n",
    "twt_archive_clean = twt_archive.copy()\n",
    "img_pred_clean = img_pred.copy()\n",
    "twt_api_clean = twt_api.copy()"
   ]
  },
  {
   "cell_type": "markdown",
   "id": "52fc48f7",
   "metadata": {},
   "source": [
    "* define: only keep original ratings (no retweets) that have images for analysis"
   ]
  },
  {
   "cell_type": "markdown",
   "id": "3ad8e1aa",
   "metadata": {},
   "source": [
    "* code:"
   ]
  },
  {
   "cell_type": "code",
   "execution_count": 315,
   "id": "284720ad",
   "metadata": {},
   "outputs": [],
   "source": [
    "# filter out retweets using retweeted_status_user_id\n",
    "\n",
    "twt_archive_clean = twt_archive_clean.query('retweeted_status_user_id.isnull()')"
   ]
  },
  {
   "cell_type": "markdown",
   "id": "a2261ed8",
   "metadata": {},
   "source": [
    "* test:"
   ]
  },
  {
   "cell_type": "code",
   "execution_count": 316,
   "id": "9cc8dad7",
   "metadata": {},
   "outputs": [
    {
     "data": {
      "text/plain": [
       "0"
      ]
     },
     "execution_count": 316,
     "metadata": {},
     "output_type": "execute_result"
    }
   ],
   "source": [
    "# test\n",
    "\n",
    "twt_archive_clean.retweeted_status_user_id.value_counts().sum()"
   ]
  },
  {
   "cell_type": "markdown",
   "id": "98cae72a",
   "metadata": {},
   "source": [
    "* define: drop 'expanded_urls' etc. column"
   ]
  },
  {
   "cell_type": "markdown",
   "id": "647c50c6",
   "metadata": {},
   "source": [
    "* code:"
   ]
  },
  {
   "cell_type": "code",
   "execution_count": 317,
   "id": "446457a8",
   "metadata": {},
   "outputs": [],
   "source": [
    "#drop columns\n",
    "\n",
    "twt_archive_clean.drop(columns = ['expanded_urls', 'in_reply_to_status_id', 'in_reply_to_user_id', 'source',\n",
    "                  'retweeted_status_id', 'retweeted_status_user_id', 'retweeted_status_timestamp'], inplace=True)"
   ]
  },
  {
   "cell_type": "markdown",
   "id": "7da8a756",
   "metadata": {},
   "source": [
    "* test:"
   ]
  },
  {
   "cell_type": "code",
   "execution_count": 251,
   "id": "befbbfd4",
   "metadata": {
    "scrolled": true
   },
   "outputs": [
    {
     "name": "stdout",
     "output_type": "stream",
     "text": [
      "<class 'pandas.core.frame.DataFrame'>\n",
      "Int64Index: 2175 entries, 0 to 2355\n",
      "Data columns (total 10 columns):\n",
      " #   Column              Non-Null Count  Dtype \n",
      "---  ------              --------------  ----- \n",
      " 0   tweet_id            2175 non-null   int64 \n",
      " 1   timestamp           2175 non-null   object\n",
      " 2   text                2175 non-null   object\n",
      " 3   rating_numerator    2175 non-null   int64 \n",
      " 4   rating_denominator  2175 non-null   int64 \n",
      " 5   name                2175 non-null   object\n",
      " 6   doggo               2175 non-null   object\n",
      " 7   floofer             2175 non-null   object\n",
      " 8   pupper              2175 non-null   object\n",
      " 9   puppo               2175 non-null   object\n",
      "dtypes: int64(3), object(7)\n",
      "memory usage: 186.9+ KB\n"
     ]
    }
   ],
   "source": [
    "# test\n",
    "\n",
    "twt_archive_clean.info()"
   ]
  },
  {
   "cell_type": "markdown",
   "id": "89c2da96",
   "metadata": {},
   "source": [
    "* define: change tweet_id data type to string"
   ]
  },
  {
   "cell_type": "markdown",
   "id": "15b6a300",
   "metadata": {},
   "source": [
    "* code:"
   ]
  },
  {
   "cell_type": "code",
   "execution_count": 318,
   "id": "83e19733",
   "metadata": {},
   "outputs": [],
   "source": [
    "# convert tweet_id to a string \n",
    "\n",
    "twt_archive_clean.tweet_id = twt_archive_clean.tweet_id.astype(str)\n",
    "img_pred_clean.tweet_id = img_pred_clean.tweet_id.astype(str)\n",
    "twt_api_clean.tweet_id = twt_api_clean.tweet_id.astype(str)"
   ]
  },
  {
   "cell_type": "markdown",
   "id": "f985b429",
   "metadata": {},
   "source": [
    "* test:"
   ]
  },
  {
   "cell_type": "code",
   "execution_count": 319,
   "id": "94bab3c6",
   "metadata": {},
   "outputs": [
    {
     "name": "stdout",
     "output_type": "stream",
     "text": [
      "<class 'pandas.core.frame.DataFrame'>\n",
      "Int64Index: 2175 entries, 0 to 2355\n",
      "Data columns (total 10 columns):\n",
      " #   Column              Non-Null Count  Dtype \n",
      "---  ------              --------------  ----- \n",
      " 0   tweet_id            2175 non-null   object\n",
      " 1   timestamp           2175 non-null   object\n",
      " 2   text                2175 non-null   object\n",
      " 3   rating_numerator    2175 non-null   int64 \n",
      " 4   rating_denominator  2175 non-null   int64 \n",
      " 5   name                2175 non-null   object\n",
      " 6   doggo               2175 non-null   object\n",
      " 7   floofer             2175 non-null   object\n",
      " 8   pupper              2175 non-null   object\n",
      " 9   puppo               2175 non-null   object\n",
      "dtypes: int64(2), object(8)\n",
      "memory usage: 186.9+ KB\n"
     ]
    }
   ],
   "source": [
    "# test\n",
    "\n",
    "twt_archive_clean.info()"
   ]
  },
  {
   "cell_type": "markdown",
   "id": "c0b72674",
   "metadata": {},
   "source": [
    "* define: change timestamp to datetime"
   ]
  },
  {
   "cell_type": "markdown",
   "id": "b4008e99",
   "metadata": {},
   "source": [
    "* code:"
   ]
  },
  {
   "cell_type": "code",
   "execution_count": 320,
   "id": "371ef6ad",
   "metadata": {},
   "outputs": [],
   "source": [
    "# convert timestamp to datetime\n",
    "\n",
    "twt_archive_clean.timestamp = pd.to_datetime(twt_archive_clean.timestamp)"
   ]
  },
  {
   "cell_type": "markdown",
   "id": "7af7a862",
   "metadata": {},
   "source": [
    "* test:"
   ]
  },
  {
   "cell_type": "code",
   "execution_count": 255,
   "id": "151262ac",
   "metadata": {},
   "outputs": [
    {
     "name": "stdout",
     "output_type": "stream",
     "text": [
      "<class 'pandas.core.frame.DataFrame'>\n",
      "Int64Index: 2175 entries, 0 to 2355\n",
      "Data columns (total 10 columns):\n",
      " #   Column              Non-Null Count  Dtype              \n",
      "---  ------              --------------  -----              \n",
      " 0   tweet_id            2175 non-null   object             \n",
      " 1   timestamp           2175 non-null   datetime64[ns, UTC]\n",
      " 2   text                2175 non-null   object             \n",
      " 3   rating_numerator    2175 non-null   int64              \n",
      " 4   rating_denominator  2175 non-null   int64              \n",
      " 5   name                2175 non-null   object             \n",
      " 6   doggo               2175 non-null   object             \n",
      " 7   floofer             2175 non-null   object             \n",
      " 8   pupper              2175 non-null   object             \n",
      " 9   puppo               2175 non-null   object             \n",
      "dtypes: datetime64[ns, UTC](1), int64(2), object(7)\n",
      "memory usage: 186.9+ KB\n"
     ]
    }
   ],
   "source": [
    "# test\n",
    "\n",
    "twt_archive_clean.info()"
   ]
  },
  {
   "cell_type": "markdown",
   "id": "4a3a0b11",
   "metadata": {},
   "source": [
    "* define: fix incorrect dog names and set to NA"
   ]
  },
  {
   "cell_type": "markdown",
   "id": "eba97346",
   "metadata": {},
   "source": [
    "* code:"
   ]
  },
  {
   "cell_type": "code",
   "execution_count": 321,
   "id": "3afa1e0d",
   "metadata": {},
   "outputs": [],
   "source": [
    "import warnings\n",
    "warnings.filterwarnings('ignore') # disable warnings from computation\n",
    "\n",
    "# remove all improper dog names and replace with NA\n",
    "\n",
    "twt_archive_clean.name = twt_archive_clean.name.str.replace('^[a-z]', 'None' )\n",
    "twt_archive_clean.loc[twt_archive_clean['name'] == 'None']= np.NaN"
   ]
  },
  {
   "cell_type": "markdown",
   "id": "e855f7c8",
   "metadata": {},
   "source": [
    "* test:"
   ]
  },
  {
   "cell_type": "code",
   "execution_count": 322,
   "id": "f49c4267",
   "metadata": {},
   "outputs": [
    {
     "data": {
      "text/plain": [
       "Lucy          11\n",
       "Charlie       11\n",
       "Cooper        10\n",
       "Oliver        10\n",
       "Tucker         9\n",
       "              ..\n",
       "Wishes         1\n",
       "Rose           1\n",
       "Theo           1\n",
       "Fido           1\n",
       "Christoper     1\n",
       "Name: name, Length: 953, dtype: int64"
      ]
     },
     "execution_count": 322,
     "metadata": {},
     "output_type": "execute_result"
    }
   ],
   "source": [
    "# test\n",
    "\n",
    "twt_archive_clean.name.value_counts() "
   ]
  },
  {
   "cell_type": "code",
   "execution_count": 323,
   "id": "b5303e58",
   "metadata": {},
   "outputs": [
    {
     "data": {
      "text/plain": [
       "735"
      ]
     },
     "execution_count": 323,
     "metadata": {},
     "output_type": "execute_result"
    }
   ],
   "source": [
    "twt_archive_clean.name.isna().sum()"
   ]
  },
  {
   "cell_type": "markdown",
   "id": "d332ca52",
   "metadata": {},
   "source": [
    "* define: fix numerator ratings with decimals"
   ]
  },
  {
   "cell_type": "markdown",
   "id": "94749eaa",
   "metadata": {},
   "source": [
    "* code:"
   ]
  },
  {
   "cell_type": "code",
   "execution_count": 324,
   "id": "88b4570d",
   "metadata": {},
   "outputs": [
    {
     "data": {
      "text/plain": [
       "[{'883482846933004288': [45,\n",
       "   'This is Bella. She hopes her smile made you smile. If not, she is also offering you her favorite monkey. 13.5/10 https://t.co/qjrljjt948',\n",
       "   5.0]},\n",
       " {'786709082849828864': [695,\n",
       "   \"This is Logan, the Chow who lived. He solemnly swears he's up to lots of good. H*ckin magical af 9.75/10 https://t.co/yBO5wuqaPS\",\n",
       "   75.0]},\n",
       " {'778027034220126208': [763,\n",
       "   \"This is Sophie. She's a Jubilant Bush Pupper. Super h*ckin rare. Appears at random just to smile at the locals. 11.27/10 would smile back https://t.co/QFaUiIHxHq\",\n",
       "   27.0]}]"
      ]
     },
     "execution_count": 324,
     "metadata": {},
     "output_type": "execute_result"
    }
   ],
   "source": [
    "decimal_numerators = []\n",
    "for i, text in twt_archive_clean['text'].iteritems():\n",
    "    if bool(re.search('\\d+\\.\\d+\\/\\d+', str(text))):\n",
    "        decimal_numerators.append({twt_archive_clean['tweet_id'][i]:[i, text, twt_archive_clean['rating_numerator'][i]]})\n",
    "        \n",
    "decimal_numerators"
   ]
  },
  {
   "cell_type": "code",
   "execution_count": 327,
   "id": "c6e2fafb",
   "metadata": {},
   "outputs": [],
   "source": [
    "# change values\n",
    "\n",
    "twt_archive_clean.at[45,'rating_numerator'] = 13.5\n",
    "twt_archive_clean.at[695,'rating_numerator'] = 9.75\n",
    "twt_archive_clean.at[763,'rating_numerator'] = 11.27"
   ]
  },
  {
   "cell_type": "markdown",
   "id": "cbad4b88",
   "metadata": {},
   "source": [
    "* test:"
   ]
  },
  {
   "cell_type": "code",
   "execution_count": 330,
   "id": "273d17f4",
   "metadata": {},
   "outputs": [
    {
     "data": {
      "text/plain": [
       "[{'883482846933004288': ['This is Bella. She hopes her smile made you smile. If not, she is also offering you her favorite monkey. 13.5/10 https://t.co/qjrljjt948',\n",
       "   13.5]},\n",
       " {'786709082849828864': [\"This is Logan, the Chow who lived. He solemnly swears he's up to lots of good. H*ckin magical af 9.75/10 https://t.co/yBO5wuqaPS\",\n",
       "   9.75]},\n",
       " {'778027034220126208': [\"This is Sophie. She's a Jubilant Bush Pupper. Super h*ckin rare. Appears at random just to smile at the locals. 11.27/10 would smile back https://t.co/QFaUiIHxHq\",\n",
       "   11.27]}]"
      ]
     },
     "execution_count": 330,
     "metadata": {},
     "output_type": "execute_result"
    }
   ],
   "source": [
    "# test\n",
    "\n",
    "decimal_numerators = []\n",
    "for i, text in twt_archive_clean['text'].iteritems():\n",
    "    if bool(re.search('\\d+\\.\\d+\\/\\d+', str(text))):\n",
    "        decimal_numerators.append({twt_archive_clean['tweet_id'][i]:[text, twt_archive_clean['rating_numerator'][i]]})\n",
    "        \n",
    "decimal_numerators\n"
   ]
  },
  {
   "cell_type": "markdown",
   "id": "6635ed80",
   "metadata": {},
   "source": [
    "* define: change numerator and denominator ratings to float"
   ]
  },
  {
   "cell_type": "markdown",
   "id": "b94d7e0d",
   "metadata": {},
   "source": [
    "* code:"
   ]
  },
  {
   "cell_type": "code",
   "execution_count": 331,
   "id": "82d757db",
   "metadata": {},
   "outputs": [],
   "source": [
    "# convert to float datatype\n",
    "twt_archive_clean[['rating_numerator', 'rating_denominator']] = twt_archive_clean[['rating_numerator','rating_denominator']].astype(float)\n"
   ]
  },
  {
   "cell_type": "markdown",
   "id": "e8321600",
   "metadata": {},
   "source": [
    "* test:"
   ]
  },
  {
   "cell_type": "code",
   "execution_count": 263,
   "id": "356a176a",
   "metadata": {},
   "outputs": [
    {
     "name": "stdout",
     "output_type": "stream",
     "text": [
      "<class 'pandas.core.frame.DataFrame'>\n",
      "Int64Index: 2175 entries, 0 to 2355\n",
      "Data columns (total 10 columns):\n",
      " #   Column              Non-Null Count  Dtype              \n",
      "---  ------              --------------  -----              \n",
      " 0   tweet_id            1440 non-null   object             \n",
      " 1   timestamp           1440 non-null   datetime64[ns, UTC]\n",
      " 2   text                1440 non-null   object             \n",
      " 3   rating_numerator    1440 non-null   float64            \n",
      " 4   rating_denominator  1440 non-null   float64            \n",
      " 5   name                1440 non-null   object             \n",
      " 6   doggo               1440 non-null   object             \n",
      " 7   floofer             1440 non-null   object             \n",
      " 8   pupper              1440 non-null   object             \n",
      " 9   puppo               1440 non-null   object             \n",
      "dtypes: datetime64[ns, UTC](1), float64(2), object(7)\n",
      "memory usage: 251.5+ KB\n"
     ]
    }
   ],
   "source": [
    "#test\n",
    "\n",
    "twt_archive_clean.info()"
   ]
  },
  {
   "cell_type": "markdown",
   "id": "171b44b0",
   "metadata": {},
   "source": [
    "* define: Melt the doggo, floofer, pupper, puppo columns to a dog_stage column."
   ]
  },
  {
   "cell_type": "markdown",
   "id": "5dfca5d1",
   "metadata": {},
   "source": [
    "* code:"
   ]
  },
  {
   "cell_type": "code",
   "execution_count": 333,
   "id": "baa37141",
   "metadata": {},
   "outputs": [],
   "source": [
    "twt_archive_clean = pd.melt(twt_archive_clean, id_vars=['tweet_id', 'timestamp', 'text', 'rating_numerator', 'rating_denominator', 'name'],\n",
    "                           var_name='dog_stager', value_name='dog_stage')\n",
    "twt_archive_clean = twt_archive_clean.drop('dog_stager', axis=1)"
   ]
  },
  {
   "cell_type": "markdown",
   "id": "c130e154",
   "metadata": {},
   "source": [
    "* test:"
   ]
  },
  {
   "cell_type": "code",
   "execution_count": 265,
   "id": "caa513b2",
   "metadata": {},
   "outputs": [
    {
     "data": {
      "text/html": [
       "<div>\n",
       "<style scoped>\n",
       "    .dataframe tbody tr th:only-of-type {\n",
       "        vertical-align: middle;\n",
       "    }\n",
       "\n",
       "    .dataframe tbody tr th {\n",
       "        vertical-align: top;\n",
       "    }\n",
       "\n",
       "    .dataframe thead th {\n",
       "        text-align: right;\n",
       "    }\n",
       "</style>\n",
       "<table border=\"1\" class=\"dataframe\">\n",
       "  <thead>\n",
       "    <tr style=\"text-align: right;\">\n",
       "      <th></th>\n",
       "      <th>tweet_id</th>\n",
       "      <th>timestamp</th>\n",
       "      <th>text</th>\n",
       "      <th>rating_numerator</th>\n",
       "      <th>rating_denominator</th>\n",
       "      <th>name</th>\n",
       "      <th>dog_stage</th>\n",
       "    </tr>\n",
       "  </thead>\n",
       "  <tbody>\n",
       "    <tr>\n",
       "      <th>0</th>\n",
       "      <td>892420643555336193</td>\n",
       "      <td>2017-08-01 16:23:56+00:00</td>\n",
       "      <td>This is Phineas. He's a mystical boy. Only eve...</td>\n",
       "      <td>13.0</td>\n",
       "      <td>10.0</td>\n",
       "      <td>Phineas</td>\n",
       "      <td>None</td>\n",
       "    </tr>\n",
       "    <tr>\n",
       "      <th>1</th>\n",
       "      <td>892177421306343426</td>\n",
       "      <td>2017-08-01 00:17:27+00:00</td>\n",
       "      <td>This is Tilly. She's just checking pup on you....</td>\n",
       "      <td>13.0</td>\n",
       "      <td>10.0</td>\n",
       "      <td>Tilly</td>\n",
       "      <td>None</td>\n",
       "    </tr>\n",
       "    <tr>\n",
       "      <th>2</th>\n",
       "      <td>891815181378084864</td>\n",
       "      <td>2017-07-31 00:18:03+00:00</td>\n",
       "      <td>This is Archie. He is a rare Norwegian Pouncin...</td>\n",
       "      <td>12.0</td>\n",
       "      <td>10.0</td>\n",
       "      <td>Archie</td>\n",
       "      <td>None</td>\n",
       "    </tr>\n",
       "    <tr>\n",
       "      <th>3</th>\n",
       "      <td>891689557279858688</td>\n",
       "      <td>2017-07-30 15:58:51+00:00</td>\n",
       "      <td>This is Darla. She commenced a snooze mid meal...</td>\n",
       "      <td>13.0</td>\n",
       "      <td>10.0</td>\n",
       "      <td>Darla</td>\n",
       "      <td>None</td>\n",
       "    </tr>\n",
       "    <tr>\n",
       "      <th>4</th>\n",
       "      <td>891327558926688256</td>\n",
       "      <td>2017-07-29 16:00:24+00:00</td>\n",
       "      <td>This is Franklin. He would like you to stop ca...</td>\n",
       "      <td>12.0</td>\n",
       "      <td>10.0</td>\n",
       "      <td>Franklin</td>\n",
       "      <td>None</td>\n",
       "    </tr>\n",
       "  </tbody>\n",
       "</table>\n",
       "</div>"
      ],
      "text/plain": [
       "             tweet_id                 timestamp  \\\n",
       "0  892420643555336193 2017-08-01 16:23:56+00:00   \n",
       "1  892177421306343426 2017-08-01 00:17:27+00:00   \n",
       "2  891815181378084864 2017-07-31 00:18:03+00:00   \n",
       "3  891689557279858688 2017-07-30 15:58:51+00:00   \n",
       "4  891327558926688256 2017-07-29 16:00:24+00:00   \n",
       "\n",
       "                                                text  rating_numerator  \\\n",
       "0  This is Phineas. He's a mystical boy. Only eve...              13.0   \n",
       "1  This is Tilly. She's just checking pup on you....              13.0   \n",
       "2  This is Archie. He is a rare Norwegian Pouncin...              12.0   \n",
       "3  This is Darla. She commenced a snooze mid meal...              13.0   \n",
       "4  This is Franklin. He would like you to stop ca...              12.0   \n",
       "\n",
       "   rating_denominator      name dog_stage  \n",
       "0                10.0   Phineas      None  \n",
       "1                10.0     Tilly      None  \n",
       "2                10.0    Archie      None  \n",
       "3                10.0     Darla      None  \n",
       "4                10.0  Franklin      None  "
      ]
     },
     "execution_count": 265,
     "metadata": {},
     "output_type": "execute_result"
    }
   ],
   "source": [
    "# test\n",
    "\n",
    "twt_archive_clean.head()"
   ]
  },
  {
   "cell_type": "code",
   "execution_count": 266,
   "id": "4237f448",
   "metadata": {},
   "outputs": [
    {
     "data": {
      "text/plain": [
       "None       5561\n",
       "pupper      133\n",
       "doggo        45\n",
       "puppo        16\n",
       "floofer       5\n",
       "Name: dog_stage, dtype: int64"
      ]
     },
     "execution_count": 266,
     "metadata": {},
     "output_type": "execute_result"
    }
   ],
   "source": [
    "twt_archive_clean.dog_stage.value_counts() "
   ]
  },
  {
   "cell_type": "markdown",
   "id": "8579b786",
   "metadata": {},
   "source": [
    "* define: remove duplicated rows"
   ]
  },
  {
   "cell_type": "markdown",
   "id": "70f98e51",
   "metadata": {},
   "source": [
    "* code:"
   ]
  },
  {
   "cell_type": "code",
   "execution_count": 334,
   "id": "860abb2f",
   "metadata": {},
   "outputs": [
    {
     "data": {
      "text/plain": [
       "7060"
      ]
     },
     "execution_count": 334,
     "metadata": {},
     "output_type": "execute_result"
    }
   ],
   "source": [
    "twt_archive_clean.duplicated().sum()"
   ]
  },
  {
   "cell_type": "markdown",
   "id": "b6ababb3",
   "metadata": {},
   "source": [
    "* test:"
   ]
  },
  {
   "cell_type": "code",
   "execution_count": 335,
   "id": "6c03fc75",
   "metadata": {},
   "outputs": [
    {
     "data": {
      "text/plain": [
       "(8700, 7)"
      ]
     },
     "execution_count": 335,
     "metadata": {},
     "output_type": "execute_result"
    }
   ],
   "source": [
    "twt_archive_clean.shape"
   ]
  },
  {
   "cell_type": "code",
   "execution_count": 336,
   "id": "8fd2cbd5",
   "metadata": {},
   "outputs": [
    {
     "data": {
      "text/plain": [
       "(1640, 7)"
      ]
     },
     "execution_count": 336,
     "metadata": {},
     "output_type": "execute_result"
    }
   ],
   "source": [
    "# test\n",
    "twt_archive_clean.drop_duplicates(inplace=True)\n",
    "twt_archive_clean.shape"
   ]
  },
  {
   "cell_type": "markdown",
   "id": "ecb17452",
   "metadata": {},
   "source": [
    "* define: convert dog_stage to category"
   ]
  },
  {
   "cell_type": "markdown",
   "id": "fa1316c0",
   "metadata": {},
   "source": [
    "* code:"
   ]
  },
  {
   "cell_type": "code",
   "execution_count": 337,
   "id": "5b33bd30",
   "metadata": {},
   "outputs": [],
   "source": [
    "# convert to category datatype \n",
    "twt_archive_clean.dog_stage = twt_archive_clean.dog_stage.astype('category')"
   ]
  },
  {
   "cell_type": "markdown",
   "id": "40fddf08",
   "metadata": {},
   "source": [
    "* test:"
   ]
  },
  {
   "cell_type": "code",
   "execution_count": 272,
   "id": "a8024687",
   "metadata": {},
   "outputs": [
    {
     "name": "stdout",
     "output_type": "stream",
     "text": [
      "<class 'pandas.core.frame.DataFrame'>\n",
      "Int64Index: 1640 entries, 0 to 7430\n",
      "Data columns (total 7 columns):\n",
      " #   Column              Non-Null Count  Dtype              \n",
      "---  ------              --------------  -----              \n",
      " 0   tweet_id            1639 non-null   object             \n",
      " 1   timestamp           1639 non-null   datetime64[ns, UTC]\n",
      " 2   text                1639 non-null   object             \n",
      " 3   rating_numerator    1639 non-null   float64            \n",
      " 4   rating_denominator  1639 non-null   float64            \n",
      " 5   name                1639 non-null   object             \n",
      " 6   dog_stage           1639 non-null   category           \n",
      "dtypes: category(1), datetime64[ns, UTC](1), float64(2), object(3)\n",
      "memory usage: 91.5+ KB\n"
     ]
    }
   ],
   "source": [
    "twt_archive_clean.info()"
   ]
  },
  {
   "cell_type": "markdown",
   "id": "18264565",
   "metadata": {},
   "source": [
    "* define: merge image prediction and twitter api datasets to twitter archive"
   ]
  },
  {
   "cell_type": "markdown",
   "id": "96eb813f",
   "metadata": {},
   "source": [
    "* code:"
   ]
  },
  {
   "cell_type": "code",
   "execution_count": 339,
   "id": "fddce8f7",
   "metadata": {},
   "outputs": [],
   "source": [
    "twt_archive_clean = pd.merge(left=twt_archive_clean, right=img_pred_clean, how='left', on='tweet_id')\n",
    "twt_archive_clean = pd.merge(left=twt_archive_clean, right=twt_api_clean, how='left', on='tweet_id')"
   ]
  },
  {
   "cell_type": "markdown",
   "id": "53bc32ed",
   "metadata": {},
   "source": [
    "* test:"
   ]
  },
  {
   "cell_type": "code",
   "execution_count": 340,
   "id": "da9cf3b8",
   "metadata": {},
   "outputs": [
    {
     "name": "stdout",
     "output_type": "stream",
     "text": [
      "<class 'pandas.core.frame.DataFrame'>\n",
      "Int64Index: 1640 entries, 0 to 1639\n",
      "Data columns (total 20 columns):\n",
      " #   Column              Non-Null Count  Dtype              \n",
      "---  ------              --------------  -----              \n",
      " 0   tweet_id            1639 non-null   object             \n",
      " 1   timestamp           1639 non-null   datetime64[ns, UTC]\n",
      " 2   text                1639 non-null   object             \n",
      " 3   rating_numerator    1639 non-null   float64            \n",
      " 4   rating_denominator  1639 non-null   float64            \n",
      " 5   name                1639 non-null   object             \n",
      " 6   dog_stage           1639 non-null   category           \n",
      " 7   jpg_url             1583 non-null   object             \n",
      " 8   img_num             1583 non-null   float64            \n",
      " 9   p1                  1583 non-null   object             \n",
      " 10  p1_conf             1583 non-null   float64            \n",
      " 11  p1_dog              1583 non-null   object             \n",
      " 12  p2                  1583 non-null   object             \n",
      " 13  p2_conf             1583 non-null   float64            \n",
      " 14  p2_dog              1583 non-null   object             \n",
      " 15  p3                  1583 non-null   object             \n",
      " 16  p3_conf             1583 non-null   float64            \n",
      " 17  p3_dog              1583 non-null   object             \n",
      " 18  retweets_count      1639 non-null   float64            \n",
      " 19  favorite_count      1639 non-null   float64            \n",
      "dtypes: category(1), datetime64[ns, UTC](1), float64(8), object(10)\n",
      "memory usage: 258.1+ KB\n"
     ]
    }
   ],
   "source": [
    "# test\n",
    "\n",
    "twt_archive_clean.info() "
   ]
  },
  {
   "cell_type": "markdown",
   "id": "0bb05091",
   "metadata": {},
   "source": [
    "* define: remove missing values"
   ]
  },
  {
   "cell_type": "markdown",
   "id": "2f2c6752",
   "metadata": {},
   "source": [
    "* code"
   ]
  },
  {
   "cell_type": "code",
   "execution_count": 341,
   "id": "743bd152",
   "metadata": {},
   "outputs": [
    {
     "data": {
      "text/plain": [
       "tweet_id               1\n",
       "timestamp              1\n",
       "text                   1\n",
       "rating_numerator       1\n",
       "rating_denominator     1\n",
       "name                   1\n",
       "dog_stage              1\n",
       "jpg_url               57\n",
       "img_num               57\n",
       "p1                    57\n",
       "p1_conf               57\n",
       "p1_dog                57\n",
       "p2                    57\n",
       "p2_conf               57\n",
       "p2_dog                57\n",
       "p3                    57\n",
       "p3_conf               57\n",
       "p3_dog                57\n",
       "retweets_count         1\n",
       "favorite_count         1\n",
       "dtype: int64"
      ]
     },
     "execution_count": 341,
     "metadata": {},
     "output_type": "execute_result"
    }
   ],
   "source": [
    "twt_archive_clean.isna().sum()"
   ]
  },
  {
   "cell_type": "code",
   "execution_count": 342,
   "id": "9477b222",
   "metadata": {},
   "outputs": [],
   "source": [
    "twt_archive_clean.dropna(axis = 0, inplace=True) "
   ]
  },
  {
   "cell_type": "markdown",
   "id": "7da844f3",
   "metadata": {},
   "source": [
    "* test"
   ]
  },
  {
   "cell_type": "code",
   "execution_count": 343,
   "id": "0afac5cb",
   "metadata": {},
   "outputs": [
    {
     "name": "stdout",
     "output_type": "stream",
     "text": [
      "<class 'pandas.core.frame.DataFrame'>\n",
      "Int64Index: 1583 entries, 0 to 1639\n",
      "Data columns (total 20 columns):\n",
      " #   Column              Non-Null Count  Dtype              \n",
      "---  ------              --------------  -----              \n",
      " 0   tweet_id            1583 non-null   object             \n",
      " 1   timestamp           1583 non-null   datetime64[ns, UTC]\n",
      " 2   text                1583 non-null   object             \n",
      " 3   rating_numerator    1583 non-null   float64            \n",
      " 4   rating_denominator  1583 non-null   float64            \n",
      " 5   name                1583 non-null   object             \n",
      " 6   dog_stage           1583 non-null   category           \n",
      " 7   jpg_url             1583 non-null   object             \n",
      " 8   img_num             1583 non-null   float64            \n",
      " 9   p1                  1583 non-null   object             \n",
      " 10  p1_conf             1583 non-null   float64            \n",
      " 11  p1_dog              1583 non-null   object             \n",
      " 12  p2                  1583 non-null   object             \n",
      " 13  p2_conf             1583 non-null   float64            \n",
      " 14  p2_dog              1583 non-null   object             \n",
      " 15  p3                  1583 non-null   object             \n",
      " 16  p3_conf             1583 non-null   float64            \n",
      " 17  p3_dog              1583 non-null   object             \n",
      " 18  retweets_count      1583 non-null   float64            \n",
      " 19  favorite_count      1583 non-null   float64            \n",
      "dtypes: category(1), datetime64[ns, UTC](1), float64(8), object(10)\n",
      "memory usage: 249.1+ KB\n"
     ]
    }
   ],
   "source": [
    "# test\n",
    "\n",
    "twt_archive_clean.info() "
   ]
  },
  {
   "cell_type": "markdown",
   "id": "6c963f26",
   "metadata": {},
   "source": [
    "## Save cleaned data\n"
   ]
  },
  {
   "cell_type": "code",
   "execution_count": 344,
   "id": "bd5b3894",
   "metadata": {},
   "outputs": [],
   "source": [
    "twt_archive_clean.to_csv('twitter_archive_master.csv', index=False) "
   ]
  },
  {
   "cell_type": "code",
   "execution_count": null,
   "id": "52140779",
   "metadata": {},
   "outputs": [],
   "source": []
  },
  {
   "cell_type": "code",
   "execution_count": null,
   "id": "7656c410",
   "metadata": {},
   "outputs": [],
   "source": []
  }
 ],
 "metadata": {
  "kernelspec": {
   "display_name": "Python 3 (ipykernel)",
   "language": "python",
   "name": "python3"
  },
  "language_info": {
   "codemirror_mode": {
    "name": "ipython",
    "version": 3
   },
   "file_extension": ".py",
   "mimetype": "text/x-python",
   "name": "python",
   "nbconvert_exporter": "python",
   "pygments_lexer": "ipython3",
   "version": "3.9.12"
  }
 },
 "nbformat": 4,
 "nbformat_minor": 5
}
